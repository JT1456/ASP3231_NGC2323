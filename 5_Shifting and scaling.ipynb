{
 "cells": [
  {
   "cell_type": "markdown",
   "id": "545e77f0",
   "metadata": {},
   "source": [
    "# Shifting and Scaling"
   ]
  },
  {
   "cell_type": "code",
   "execution_count": 1,
   "id": "fa6aa515",
   "metadata": {
    "scrolled": true
   },
   "outputs": [
    {
     "name": "stderr",
     "output_type": "stream",
     "text": [
      "C:\\Users\\Jedd\\AppData\\Local\\Temp\\ipykernel_5924\\2038989987.py:9: DeprecationWarning: `photutils.centroid_com` is a deprecated alias for `photutils.centroids.centroid_com`. Instead, please use `from photutils.centroids import centroid_com` to silence this warning.\n",
      "  from photutils import centroid_com, centroid_1dg, centroid_2dg\n",
      "C:\\Users\\Jedd\\AppData\\Local\\Temp\\ipykernel_5924\\2038989987.py:9: DeprecationWarning: `photutils.centroid_1dg` is a deprecated alias for `photutils.centroids.centroid_1dg`. Instead, please use `from photutils.centroids import centroid_1dg` to silence this warning.\n",
      "  from photutils import centroid_com, centroid_1dg, centroid_2dg\n",
      "C:\\Users\\Jedd\\AppData\\Local\\Temp\\ipykernel_5924\\2038989987.py:9: DeprecationWarning: `photutils.centroid_2dg` is a deprecated alias for `photutils.centroids.centroid_2dg`. Instead, please use `from photutils.centroids import centroid_2dg` to silence this warning.\n",
      "  from photutils import centroid_com, centroid_1dg, centroid_2dg\n"
     ]
    }
   ],
   "source": [
    "import numpy as np\n",
    "import astropy\n",
    "import ccdproc\n",
    "from ccdproc import CCDData, Combiner\n",
    "from astropy import units as u\n",
    "from astropy.visualization import SqrtStretch\n",
    "import matplotlib.pyplot as plt \n",
    "from matplotlib.colors import LogNorm\n",
    "from photutils import centroid_com, centroid_1dg, centroid_2dg\n",
    "from photutils import CircularAperture\n",
    "from photutils import aperture_photometry\n",
    "from photutils import Background2D\n",
    "from photutils import MedianBackground\n",
    "from scipy.ndimage import shift\n",
    "import pandas as pd\n",
    "import gc \n",
    "gc.enable()"
   ]
  },
  {
   "cell_type": "code",
   "execution_count": 2,
   "id": "9845cd97",
   "metadata": {},
   "outputs": [
    {
     "name": "stdout",
     "output_type": "stream",
     "text": [
      "['__class__', '__delattr__', '__dict__', '__dir__', '__doc__', '__eq__', '__format__', '__ge__', '__getattribute__', '__gt__', '__hash__', '__init__', '__init_subclass__', '__le__', '__lt__', '__module__', '__ne__', '__new__', '__reduce__', '__reduce_ex__', '__repr__', '__setattr__', '__sizeof__', '__str__', '__subclasshook__', '__weakref__', '_all_keywords', '_dict_from_fits_header', '_ext', '_filenames', '_files', '_find_fits_by_reading', '_find_keywords_by_values', '_fits_files_in_directory', '_fits_summary', '_generator', '_get_files', '_glob_exclude', '_glob_include', '_location', '_paths', '_set_column_name_case_to_match_keywords', '_summary', 'ccds', 'data', 'ext', 'files', 'files_filtered', 'filter', 'glob_exclude', 'glob_include', 'hdus', 'headers', 'keywords', 'location', 'refresh', 'sort', 'summary', 'values']\n",
      "['NGC_2323_B_average.fits', 'NGC_2323_B_median.fits', 'NGC_2323_R_average.fits', 'NGC_2323_R_median.fits', 'NGC_2323_V_average.fits', 'NGC_2323_V_median.fits', 'proc_NGC 2323_B_10.000secs_00002235.fit', 'proc_NGC 2323_B_10.000secs_00002236.fit', 'proc_NGC 2323_B_10.000secs_00002237.fit', 'proc_NGC 2323_B_10.000secs_00002238.fit', 'proc_NGC 2323_B_10.000secs_00002239.fit', 'proc_NGC 2323_B_10.000secs_00002240.fit', 'proc_NGC 2323_B_10.000secs_00002241.fit', 'proc_NGC 2323_B_10.000secs_00002242.fit', 'proc_NGC 2323_B_10.000secs_00002243.fit', 'proc_NGC 2323_B_10.000secs_00002244.fit', 'proc_NGC 2323_B_120.000secs_00002265.fit', 'proc_NGC 2323_B_120.000secs_00002266.fit', 'proc_NGC 2323_B_120.000secs_00002267.fit', 'proc_NGC 2323_B_120.000secs_00002268.fit', 'proc_NGC 2323_B_120.000secs_00002269.fit', 'proc_NGC 2323_R_10.000secs_00002255.fit', 'proc_NGC 2323_R_10.000secs_00002256.fit', 'proc_NGC 2323_R_10.000secs_00002257.fit', 'proc_NGC 2323_R_10.000secs_00002258.fit', 'proc_NGC 2323_R_10.000secs_00002259.fit', 'proc_NGC 2323_R_10.000secs_00002260.fit', 'proc_NGC 2323_R_10.000secs_00002261.fit', 'proc_NGC 2323_R_10.000secs_00002262.fit', 'proc_NGC 2323_R_10.000secs_00002263.fit', 'proc_NGC 2323_R_10.000secs_00002264.fit', 'proc_NGC 2323_R_60.000secs_00002284.fit', 'proc_NGC 2323_R_60.000secs_00002285.fit', 'proc_NGC 2323_R_60.000secs_00002286.fit', 'proc_NGC 2323_R_60.000secs_00002287.fit', 'proc_NGC 2323_R_60.000secs_00002289.fit', 'proc_NGC 2323_R_60.000secs_00002296.fit', 'proc_NGC 2323_R_60.000secs_00002297.fit', 'proc_NGC 2323_R_60.000secs_00002298.fit', 'proc_NGC 2323_R_60.000secs_00002299.fit', 'proc_NGC 2323_R_60.000secs_00002300.fit', 'proc_NGC 2323_R_60.000secs_00002301.fit', 'proc_NGC 2323_V_10.000secs_00002245.fit', 'proc_NGC 2323_V_10.000secs_00002246.fit', 'proc_NGC 2323_V_10.000secs_00002247.fit', 'proc_NGC 2323_V_10.000secs_00002248.fit', 'proc_NGC 2323_V_10.000secs_00002249.fit', 'proc_NGC 2323_V_10.000secs_00002250.fit', 'proc_NGC 2323_V_10.000secs_00002251.fit', 'proc_NGC 2323_V_10.000secs_00002252.fit', 'proc_NGC 2323_V_10.000secs_00002253.fit', 'proc_NGC 2323_V_10.000secs_00002254.fit', 'proc_NGC 2323_V_120.000secs_00002270.fit', 'proc_NGC 2323_V_120.000secs_00002271.fit', 'proc_NGC 2323_V_120.000secs_00002272.fit', 'proc_NGC 2323_V_120.000secs_00002273.fit', 'proc_NGC 2323_V_120.000secs_00002274.fit', 'sproc_NGC 2323_B_10.000secs_00002235.fit', 'sproc_NGC 2323_B_10.000secs_00002236.fit', 'sproc_NGC 2323_B_10.000secs_00002237.fit', 'sproc_NGC 2323_B_10.000secs_00002238.fit', 'sproc_NGC 2323_B_10.000secs_00002239.fit', 'sproc_NGC 2323_B_10.000secs_00002240.fit', 'sproc_NGC 2323_B_10.000secs_00002241.fit', 'sproc_NGC 2323_B_10.000secs_00002242.fit', 'sproc_NGC 2323_B_10.000secs_00002243.fit', 'sproc_NGC 2323_B_10.000secs_00002244.fit', 'sproc_NGC 2323_B_120.000secs_00002265.fit', 'sproc_NGC 2323_B_120.000secs_00002266.fit', 'sproc_NGC 2323_B_120.000secs_00002267.fit', 'sproc_NGC 2323_B_120.000secs_00002268.fit', 'sproc_NGC 2323_B_120.000secs_00002269.fit', 'sproc_NGC 2323_R_10.000secs_00002255.fit', 'sproc_NGC 2323_R_10.000secs_00002256.fit', 'sproc_NGC 2323_R_10.000secs_00002257.fit', 'sproc_NGC 2323_R_10.000secs_00002258.fit', 'sproc_NGC 2323_R_10.000secs_00002259.fit', 'sproc_NGC 2323_R_10.000secs_00002260.fit', 'sproc_NGC 2323_R_10.000secs_00002261.fit', 'sproc_NGC 2323_R_10.000secs_00002262.fit', 'sproc_NGC 2323_R_10.000secs_00002263.fit', 'sproc_NGC 2323_R_10.000secs_00002264.fit', 'sproc_NGC 2323_R_60.000secs_00002284.fit', 'sproc_NGC 2323_R_60.000secs_00002285.fit', 'sproc_NGC 2323_R_60.000secs_00002286.fit', 'sproc_NGC 2323_R_60.000secs_00002287.fit', 'sproc_NGC 2323_R_60.000secs_00002289.fit', 'sproc_NGC 2323_R_60.000secs_00002296.fit', 'sproc_NGC 2323_R_60.000secs_00002297.fit', 'sproc_NGC 2323_R_60.000secs_00002298.fit', 'sproc_NGC 2323_R_60.000secs_00002299.fit', 'sproc_NGC 2323_R_60.000secs_00002300.fit', 'sproc_NGC 2323_R_60.000secs_00002301.fit', 'sproc_NGC 2323_V_10.000secs_00002245.fit', 'sproc_NGC 2323_V_10.000secs_00002246.fit', 'sproc_NGC 2323_V_10.000secs_00002247.fit', 'sproc_NGC 2323_V_10.000secs_00002248.fit', 'sproc_NGC 2323_V_10.000secs_00002249.fit', 'sproc_NGC 2323_V_10.000secs_00002250.fit', 'sproc_NGC 2323_V_10.000secs_00002251.fit', 'sproc_NGC 2323_V_10.000secs_00002252.fit', 'sproc_NGC 2323_V_10.000secs_00002253.fit', 'sproc_NGC 2323_V_10.000secs_00002254.fit', 'sproc_NGC 2323_V_120.000secs_00002270.fit', 'sproc_NGC 2323_V_120.000secs_00002271.fit', 'sproc_NGC 2323_V_120.000secs_00002272.fit', 'sproc_NGC 2323_V_120.000secs_00002273.fit', 'sproc_NGC 2323_V_120.000secs_00002274.fit']\n"
     ]
    }
   ],
   "source": [
    "images = ccdproc.ImageFileCollection(\".\") #loading in image files\n",
    "#print(dir(images))\n",
    "#print(images.files) #Printing the loaded files"
   ]
  },
  {
   "cell_type": "markdown",
   "id": "330081ee",
   "metadata": {},
   "source": [
    "Before loading in our images to the notebook, we manually checked our images using DS9 and removed any images that were blurred or had trailed stars as this would effect the combine."
   ]
  },
  {
   "cell_type": "code",
   "execution_count": 3,
   "id": "efa703dd",
   "metadata": {},
   "outputs": [
    {
     "name": "stdout",
     "output_type": "stream",
     "text": [
      "proc_NGC 2323_V_10.000secs_00002245.fit\n",
      "proc_NGC 2323_V_10.000secs_00002246.fit\n",
      "proc_NGC 2323_V_10.000secs_00002247.fit\n",
      "proc_NGC 2323_V_10.000secs_00002248.fit\n",
      "proc_NGC 2323_V_10.000secs_00002249.fit\n",
      "proc_NGC 2323_V_10.000secs_00002250.fit\n",
      "proc_NGC 2323_V_10.000secs_00002251.fit\n",
      "proc_NGC 2323_V_10.000secs_00002252.fit\n",
      "proc_NGC 2323_V_10.000secs_00002253.fit\n",
      "proc_NGC 2323_V_10.000secs_00002254.fit\n",
      "proc_NGC 2323_V_120.000secs_00002270.fit\n",
      "proc_NGC 2323_V_120.000secs_00002271.fit\n",
      "proc_NGC 2323_V_120.000secs_00002272.fit\n",
      "proc_NGC 2323_V_120.000secs_00002273.fit\n",
      "proc_NGC 2323_V_120.000secs_00002274.fit\n",
      "proc_NGC 2323_B_10.000secs_00002235.fit\n",
      "proc_NGC 2323_B_10.000secs_00002236.fit\n",
      "proc_NGC 2323_B_10.000secs_00002237.fit\n",
      "proc_NGC 2323_B_10.000secs_00002238.fit\n",
      "proc_NGC 2323_B_10.000secs_00002239.fit\n",
      "proc_NGC 2323_B_10.000secs_00002240.fit\n",
      "proc_NGC 2323_B_10.000secs_00002241.fit\n",
      "proc_NGC 2323_B_10.000secs_00002242.fit\n",
      "proc_NGC 2323_B_10.000secs_00002243.fit\n",
      "proc_NGC 2323_B_10.000secs_00002244.fit\n",
      "proc_NGC 2323_B_120.000secs_00002265.fit\n",
      "proc_NGC 2323_B_120.000secs_00002266.fit\n",
      "proc_NGC 2323_B_120.000secs_00002267.fit\n",
      "proc_NGC 2323_B_120.000secs_00002268.fit\n",
      "proc_NGC 2323_B_120.000secs_00002269.fit\n",
      "proc_NGC 2323_R_10.000secs_00002255.fit\n",
      "proc_NGC 2323_R_10.000secs_00002256.fit\n",
      "proc_NGC 2323_R_10.000secs_00002257.fit\n",
      "proc_NGC 2323_R_10.000secs_00002258.fit\n",
      "proc_NGC 2323_R_10.000secs_00002259.fit\n",
      "proc_NGC 2323_R_10.000secs_00002260.fit\n",
      "proc_NGC 2323_R_10.000secs_00002261.fit\n",
      "proc_NGC 2323_R_10.000secs_00002262.fit\n",
      "proc_NGC 2323_R_10.000secs_00002263.fit\n",
      "proc_NGC 2323_R_10.000secs_00002264.fit\n",
      "proc_NGC 2323_R_60.000secs_00002284.fit\n",
      "proc_NGC 2323_R_60.000secs_00002285.fit\n",
      "proc_NGC 2323_R_60.000secs_00002286.fit\n",
      "proc_NGC 2323_R_60.000secs_00002287.fit\n",
      "proc_NGC 2323_R_60.000secs_00002289.fit\n",
      "proc_NGC 2323_R_60.000secs_00002296.fit\n",
      "proc_NGC 2323_R_60.000secs_00002297.fit\n",
      "proc_NGC 2323_R_60.000secs_00002298.fit\n",
      "proc_NGC 2323_R_60.000secs_00002299.fit\n",
      "proc_NGC 2323_R_60.000secs_00002300.fit\n",
      "proc_NGC 2323_R_60.000secs_00002301.fit\n"
     ]
    }
   ],
   "source": [
    "# Collecting the images for the B, V and R bands into 3 different variables.\n",
    "\n",
    "imagesV = ccdproc.ImageFileCollection(\".\",glob_include='proc_NGC 2323_V_*')\n",
    "for fnV in imagesV.files_filtered(PICTTYPE = 1): #printing image file names\n",
    "    print(fnV)\n",
    "imagesB = ccdproc.ImageFileCollection(\".\",glob_include='proc_NGC 2323_B_*')\n",
    "for fnB in imagesB.files_filtered(PICTTYPE = 1): #printing image file names\n",
    "    print(fnB)\n",
    "imagesR = ccdproc.ImageFileCollection(\".\",glob_include='proc_NGC 2323_R_*')\n",
    "for fnR in imagesR.files_filtered(PICTTYPE = 1): #printing image file names\n",
    "    print(fnR)"
   ]
  },
  {
   "cell_type": "code",
   "execution_count": 4,
   "id": "ccbaf5aa",
   "metadata": {},
   "outputs": [
    {
     "name": "stderr",
     "output_type": "stream",
     "text": [
      "INFO:astropy:using the unit adu passed to the FITS reader instead of the unit adu in the FITS file.\n",
      "WARNING: FITSFixedWarning: 'obsfix' made the change 'Set OBSGEO-X to -4134713.329 from OBSGEO-[LBH].\n",
      "Set OBSGEO-Y to  2879792.379 from OBSGEO-[LBH].\n",
      "Set OBSGEO-Z to -3897419.410 from OBSGEO-[LBH]'. [astropy.wcs.wcs]\n",
      "WARNING:astropy:FITSFixedWarning: 'obsfix' made the change 'Set OBSGEO-X to -4134713.329 from OBSGEO-[LBH].\n",
      "Set OBSGEO-Y to  2879792.379 from OBSGEO-[LBH].\n",
      "Set OBSGEO-Z to -3897419.410 from OBSGEO-[LBH]'.\n",
      "INFO:astropy:using the unit adu passed to the FITS reader instead of the unit adu in the FITS file.\n",
      "INFO:astropy:using the unit adu passed to the FITS reader instead of the unit adu in the FITS file.\n"
     ]
    },
    {
     "name": "stdout",
     "output_type": "stream",
     "text": [
      "INFO: using the unit adu passed to the FITS reader instead of the unit adu in the FITS file. [astropy.nddata.ccddata]\n",
      "INFO: using the unit adu passed to the FITS reader instead of the unit adu in the FITS file. [astropy.nddata.ccddata]\n",
      "INFO: using the unit adu passed to the FITS reader instead of the unit adu in the FITS file. [astropy.nddata.ccddata]\n"
     ]
    },
    {
     "name": "stderr",
     "output_type": "stream",
     "text": [
      "INFO:astropy:using the unit adu passed to the FITS reader instead of the unit adu in the FITS file.\n",
      "INFO:astropy:using the unit adu passed to the FITS reader instead of the unit adu in the FITS file.\n",
      "INFO:astropy:using the unit adu passed to the FITS reader instead of the unit adu in the FITS file.\n",
      "INFO:astropy:using the unit adu passed to the FITS reader instead of the unit adu in the FITS file.\n"
     ]
    },
    {
     "name": "stdout",
     "output_type": "stream",
     "text": [
      "INFO: using the unit adu passed to the FITS reader instead of the unit adu in the FITS file. [astropy.nddata.ccddata]\n",
      "INFO: using the unit adu passed to the FITS reader instead of the unit adu in the FITS file. [astropy.nddata.ccddata]\n",
      "INFO: using the unit adu passed to the FITS reader instead of the unit adu in the FITS file. [astropy.nddata.ccddata]\n",
      "INFO: using the unit adu passed to the FITS reader instead of the unit adu in the FITS file. [astropy.nddata.ccddata]\n"
     ]
    },
    {
     "name": "stderr",
     "output_type": "stream",
     "text": [
      "INFO:astropy:using the unit adu passed to the FITS reader instead of the unit adu in the FITS file.\n",
      "INFO:astropy:using the unit adu passed to the FITS reader instead of the unit adu in the FITS file.\n",
      "INFO:astropy:using the unit adu passed to the FITS reader instead of the unit adu in the FITS file.\n",
      "INFO:astropy:using the unit adu passed to the FITS reader instead of the unit adu in the FITS file.\n"
     ]
    },
    {
     "name": "stdout",
     "output_type": "stream",
     "text": [
      "INFO: using the unit adu passed to the FITS reader instead of the unit adu in the FITS file. [astropy.nddata.ccddata]\n",
      "INFO: using the unit adu passed to the FITS reader instead of the unit adu in the FITS file. [astropy.nddata.ccddata]\n",
      "INFO: using the unit adu passed to the FITS reader instead of the unit adu in the FITS file. [astropy.nddata.ccddata]\n",
      "INFO: using the unit adu passed to the FITS reader instead of the unit adu in the FITS file. [astropy.nddata.ccddata]\n"
     ]
    },
    {
     "name": "stderr",
     "output_type": "stream",
     "text": [
      "INFO:astropy:using the unit adu passed to the FITS reader instead of the unit adu in the FITS file.\n",
      "INFO:astropy:using the unit adu passed to the FITS reader instead of the unit adu in the FITS file.\n",
      "INFO:astropy:using the unit adu passed to the FITS reader instead of the unit adu in the FITS file.\n"
     ]
    },
    {
     "name": "stdout",
     "output_type": "stream",
     "text": [
      "INFO: using the unit adu passed to the FITS reader instead of the unit adu in the FITS file. [astropy.nddata.ccddata]\n",
      "INFO: using the unit adu passed to the FITS reader instead of the unit adu in the FITS file. [astropy.nddata.ccddata]\n",
      "INFO: using the unit adu passed to the FITS reader instead of the unit adu in the FITS file. [astropy.nddata.ccddata]\n"
     ]
    },
    {
     "name": "stderr",
     "output_type": "stream",
     "text": [
      "INFO:astropy:using the unit adu passed to the FITS reader instead of the unit adu in the FITS file.\n"
     ]
    },
    {
     "name": "stdout",
     "output_type": "stream",
     "text": [
      "INFO: using the unit adu passed to the FITS reader instead of the unit adu in the FITS file. [astropy.nddata.ccddata]\n"
     ]
    },
    {
     "name": "stderr",
     "output_type": "stream",
     "text": [
      "INFO:astropy:using the unit adu passed to the FITS reader instead of the unit adu in the FITS file.\n",
      "WARNING: FITSFixedWarning: 'obsfix' made the change 'Set OBSGEO-X to -4134713.329 from OBSGEO-[LBH].\n",
      "Set OBSGEO-Y to  2879792.379 from OBSGEO-[LBH].\n",
      "Set OBSGEO-Z to -3897419.410 from OBSGEO-[LBH]'. [astropy.wcs.wcs]\n",
      "WARNING:astropy:FITSFixedWarning: 'obsfix' made the change 'Set OBSGEO-X to -4134713.329 from OBSGEO-[LBH].\n",
      "Set OBSGEO-Y to  2879792.379 from OBSGEO-[LBH].\n",
      "Set OBSGEO-Z to -3897419.410 from OBSGEO-[LBH]'.\n",
      "INFO:astropy:using the unit adu passed to the FITS reader instead of the unit adu in the FITS file.\n",
      "INFO:astropy:using the unit adu passed to the FITS reader instead of the unit adu in the FITS file.\n"
     ]
    },
    {
     "name": "stdout",
     "output_type": "stream",
     "text": [
      "INFO: using the unit adu passed to the FITS reader instead of the unit adu in the FITS file. [astropy.nddata.ccddata]\n",
      "INFO: using the unit adu passed to the FITS reader instead of the unit adu in the FITS file. [astropy.nddata.ccddata]\n",
      "INFO: using the unit adu passed to the FITS reader instead of the unit adu in the FITS file. [astropy.nddata.ccddata]\n"
     ]
    },
    {
     "name": "stderr",
     "output_type": "stream",
     "text": [
      "INFO:astropy:using the unit adu passed to the FITS reader instead of the unit adu in the FITS file.\n",
      "INFO:astropy:using the unit adu passed to the FITS reader instead of the unit adu in the FITS file.\n",
      "INFO:astropy:using the unit adu passed to the FITS reader instead of the unit adu in the FITS file.\n",
      "INFO:astropy:using the unit adu passed to the FITS reader instead of the unit adu in the FITS file.\n"
     ]
    },
    {
     "name": "stdout",
     "output_type": "stream",
     "text": [
      "INFO: using the unit adu passed to the FITS reader instead of the unit adu in the FITS file. [astropy.nddata.ccddata]\n",
      "INFO: using the unit adu passed to the FITS reader instead of the unit adu in the FITS file. [astropy.nddata.ccddata]\n",
      "INFO: using the unit adu passed to the FITS reader instead of the unit adu in the FITS file. [astropy.nddata.ccddata]\n",
      "INFO: using the unit adu passed to the FITS reader instead of the unit adu in the FITS file. [astropy.nddata.ccddata]\n"
     ]
    },
    {
     "name": "stderr",
     "output_type": "stream",
     "text": [
      "INFO:astropy:using the unit adu passed to the FITS reader instead of the unit adu in the FITS file.\n",
      "INFO:astropy:using the unit adu passed to the FITS reader instead of the unit adu in the FITS file.\n",
      "INFO:astropy:using the unit adu passed to the FITS reader instead of the unit adu in the FITS file.\n",
      "INFO:astropy:using the unit adu passed to the FITS reader instead of the unit adu in the FITS file.\n"
     ]
    },
    {
     "name": "stdout",
     "output_type": "stream",
     "text": [
      "INFO: using the unit adu passed to the FITS reader instead of the unit adu in the FITS file. [astropy.nddata.ccddata]\n",
      "INFO: using the unit adu passed to the FITS reader instead of the unit adu in the FITS file. [astropy.nddata.ccddata]\n",
      "INFO: using the unit adu passed to the FITS reader instead of the unit adu in the FITS file. [astropy.nddata.ccddata]\n",
      "INFO: using the unit adu passed to the FITS reader instead of the unit adu in the FITS file. [astropy.nddata.ccddata]\n"
     ]
    },
    {
     "name": "stderr",
     "output_type": "stream",
     "text": [
      "INFO:astropy:using the unit adu passed to the FITS reader instead of the unit adu in the FITS file.\n",
      "INFO:astropy:using the unit adu passed to the FITS reader instead of the unit adu in the FITS file.\n",
      "INFO:astropy:using the unit adu passed to the FITS reader instead of the unit adu in the FITS file.\n"
     ]
    },
    {
     "name": "stdout",
     "output_type": "stream",
     "text": [
      "INFO: using the unit adu passed to the FITS reader instead of the unit adu in the FITS file. [astropy.nddata.ccddata]\n",
      "INFO: using the unit adu passed to the FITS reader instead of the unit adu in the FITS file. [astropy.nddata.ccddata]\n",
      "INFO: using the unit adu passed to the FITS reader instead of the unit adu in the FITS file. [astropy.nddata.ccddata]\n"
     ]
    },
    {
     "name": "stderr",
     "output_type": "stream",
     "text": [
      "INFO:astropy:using the unit adu passed to the FITS reader instead of the unit adu in the FITS file.\n"
     ]
    },
    {
     "name": "stdout",
     "output_type": "stream",
     "text": [
      "INFO: using the unit adu passed to the FITS reader instead of the unit adu in the FITS file. [astropy.nddata.ccddata]\n"
     ]
    },
    {
     "name": "stderr",
     "output_type": "stream",
     "text": [
      "INFO:astropy:using the unit adu passed to the FITS reader instead of the unit adu in the FITS file.\n",
      "WARNING: FITSFixedWarning: 'obsfix' made the change 'Set OBSGEO-X to -4134713.329 from OBSGEO-[LBH].\n",
      "Set OBSGEO-Y to  2879792.379 from OBSGEO-[LBH].\n",
      "Set OBSGEO-Z to -3897419.410 from OBSGEO-[LBH]'. [astropy.wcs.wcs]\n",
      "WARNING:astropy:FITSFixedWarning: 'obsfix' made the change 'Set OBSGEO-X to -4134713.329 from OBSGEO-[LBH].\n",
      "Set OBSGEO-Y to  2879792.379 from OBSGEO-[LBH].\n",
      "Set OBSGEO-Z to -3897419.410 from OBSGEO-[LBH]'.\n",
      "INFO:astropy:using the unit adu passed to the FITS reader instead of the unit adu in the FITS file.\n",
      "INFO:astropy:using the unit adu passed to the FITS reader instead of the unit adu in the FITS file.\n"
     ]
    },
    {
     "name": "stdout",
     "output_type": "stream",
     "text": [
      "INFO: using the unit adu passed to the FITS reader instead of the unit adu in the FITS file. [astropy.nddata.ccddata]\n",
      "INFO: using the unit adu passed to the FITS reader instead of the unit adu in the FITS file. [astropy.nddata.ccddata]\n",
      "INFO: using the unit adu passed to the FITS reader instead of the unit adu in the FITS file. [astropy.nddata.ccddata]\n"
     ]
    },
    {
     "name": "stderr",
     "output_type": "stream",
     "text": [
      "INFO:astropy:using the unit adu passed to the FITS reader instead of the unit adu in the FITS file.\n",
      "INFO:astropy:using the unit adu passed to the FITS reader instead of the unit adu in the FITS file.\n",
      "INFO:astropy:using the unit adu passed to the FITS reader instead of the unit adu in the FITS file.\n"
     ]
    },
    {
     "name": "stdout",
     "output_type": "stream",
     "text": [
      "INFO: using the unit adu passed to the FITS reader instead of the unit adu in the FITS file. [astropy.nddata.ccddata]\n",
      "INFO: using the unit adu passed to the FITS reader instead of the unit adu in the FITS file. [astropy.nddata.ccddata]\n",
      "INFO: using the unit adu passed to the FITS reader instead of the unit adu in the FITS file. [astropy.nddata.ccddata]\n"
     ]
    },
    {
     "name": "stderr",
     "output_type": "stream",
     "text": [
      "INFO:astropy:using the unit adu passed to the FITS reader instead of the unit adu in the FITS file.\n",
      "INFO:astropy:using the unit adu passed to the FITS reader instead of the unit adu in the FITS file.\n",
      "INFO:astropy:using the unit adu passed to the FITS reader instead of the unit adu in the FITS file.\n"
     ]
    },
    {
     "name": "stdout",
     "output_type": "stream",
     "text": [
      "INFO: using the unit adu passed to the FITS reader instead of the unit adu in the FITS file. [astropy.nddata.ccddata]\n",
      "INFO: using the unit adu passed to the FITS reader instead of the unit adu in the FITS file. [astropy.nddata.ccddata]\n",
      "INFO: using the unit adu passed to the FITS reader instead of the unit adu in the FITS file. [astropy.nddata.ccddata]\n"
     ]
    },
    {
     "name": "stderr",
     "output_type": "stream",
     "text": [
      "INFO:astropy:using the unit adu passed to the FITS reader instead of the unit adu in the FITS file.\n",
      "INFO:astropy:using the unit adu passed to the FITS reader instead of the unit adu in the FITS file.\n",
      "INFO:astropy:using the unit adu passed to the FITS reader instead of the unit adu in the FITS file.\n"
     ]
    },
    {
     "name": "stdout",
     "output_type": "stream",
     "text": [
      "INFO: using the unit adu passed to the FITS reader instead of the unit adu in the FITS file. [astropy.nddata.ccddata]\n",
      "INFO: using the unit adu passed to the FITS reader instead of the unit adu in the FITS file. [astropy.nddata.ccddata]\n",
      "INFO: using the unit adu passed to the FITS reader instead of the unit adu in the FITS file. [astropy.nddata.ccddata]\n"
     ]
    },
    {
     "name": "stderr",
     "output_type": "stream",
     "text": [
      "INFO:astropy:using the unit adu passed to the FITS reader instead of the unit adu in the FITS file.\n",
      "INFO:astropy:using the unit adu passed to the FITS reader instead of the unit adu in the FITS file.\n",
      "INFO:astropy:using the unit adu passed to the FITS reader instead of the unit adu in the FITS file.\n"
     ]
    },
    {
     "name": "stdout",
     "output_type": "stream",
     "text": [
      "INFO: using the unit adu passed to the FITS reader instead of the unit adu in the FITS file. [astropy.nddata.ccddata]\n",
      "INFO: using the unit adu passed to the FITS reader instead of the unit adu in the FITS file. [astropy.nddata.ccddata]\n",
      "INFO: using the unit adu passed to the FITS reader instead of the unit adu in the FITS file. [astropy.nddata.ccddata]\n"
     ]
    },
    {
     "name": "stderr",
     "output_type": "stream",
     "text": [
      "INFO:astropy:using the unit adu passed to the FITS reader instead of the unit adu in the FITS file.\n",
      "INFO:astropy:using the unit adu passed to the FITS reader instead of the unit adu in the FITS file.\n",
      "INFO:astropy:using the unit adu passed to the FITS reader instead of the unit adu in the FITS file.\n"
     ]
    },
    {
     "name": "stdout",
     "output_type": "stream",
     "text": [
      "INFO: using the unit adu passed to the FITS reader instead of the unit adu in the FITS file. [astropy.nddata.ccddata]\n",
      "INFO: using the unit adu passed to the FITS reader instead of the unit adu in the FITS file. [astropy.nddata.ccddata]\n",
      "INFO: using the unit adu passed to the FITS reader instead of the unit adu in the FITS file. [astropy.nddata.ccddata]\n"
     ]
    },
    {
     "name": "stderr",
     "output_type": "stream",
     "text": [
      "INFO:astropy:using the unit adu passed to the FITS reader instead of the unit adu in the FITS file.\n",
      "INFO:astropy:using the unit adu passed to the FITS reader instead of the unit adu in the FITS file.\n",
      "INFO:astropy:using the unit adu passed to the FITS reader instead of the unit adu in the FITS file.\n"
     ]
    },
    {
     "name": "stdout",
     "output_type": "stream",
     "text": [
      "INFO: using the unit adu passed to the FITS reader instead of the unit adu in the FITS file. [astropy.nddata.ccddata]\n",
      "INFO: using the unit adu passed to the FITS reader instead of the unit adu in the FITS file. [astropy.nddata.ccddata]\n",
      "INFO: using the unit adu passed to the FITS reader instead of the unit adu in the FITS file. [astropy.nddata.ccddata]\n"
     ]
    }
   ],
   "source": [
    "# Reading the data for the 3 different bands in adu\n",
    "\n",
    "scimV = [CCDData.read(fnV, unit = \"adu\") for fnV in imagesV.files_filtered(PICTTYPE = 1)] #Loading image data\n",
    "scimB = [CCDData.read(fnB, unit = \"adu\") for fnB in imagesB.files_filtered(PICTTYPE = 1)] #Loading image data\n",
    "scimR = [CCDData.read(fnR, unit = \"adu\") for fnR in imagesR.files_filtered(PICTTYPE = 1)] #Loading image data"
   ]
  },
  {
   "cell_type": "markdown",
   "id": "bd954a62",
   "metadata": {},
   "source": [
    "# Shifting Images"
   ]
  },
  {
   "cell_type": "markdown",
   "id": "f29b63cb",
   "metadata": {},
   "source": [
    "The centroid function takes the first image from the given bands list and returns the x, y location of it, taking into account the pixel size of the image."
   ]
  },
  {
   "cell_type": "code",
   "execution_count": 20,
   "id": "be7cd147",
   "metadata": {},
   "outputs": [],
   "source": [
    "# Function to find the centoind to shift the images to\n",
    "\n",
    "def centroid(scim: list) -> int: #renamed files\n",
    "    temp=scim[0].copy()\n",
    "    temp=temp-np.ma.median(scim)\n",
    "    \n",
    "    x1, y1 = centroid_2dg(temp[150:225,775:850])\n",
    "    return x1+775, y1+150"
   ]
  },
  {
   "cell_type": "code",
   "execution_count": 23,
   "id": "8ce6c3e7",
   "metadata": {},
   "outputs": [
    {
     "name": "stderr",
     "output_type": "stream",
     "text": [
      "WARNING: The fit may be unsuccessful; check fit_info['message'] for more information. [astropy.modeling.fitting]\n",
      "WARNING:astropy:The fit may be unsuccessful; check fit_info['message'] for more information.\n",
      "WARNING: The fit may be unsuccessful; check fit_info['message'] for more information. [astropy.modeling.fitting]\n",
      "WARNING:astropy:The fit may be unsuccessful; check fit_info['message'] for more information.\n",
      "WARNING: The fit may be unsuccessful; check fit_info['message'] for more information. [astropy.modeling.fitting]\n",
      "WARNING:astropy:The fit may be unsuccessful; check fit_info['message'] for more information.\n"
     ]
    },
    {
     "name": "stdout",
     "output_type": "stream",
     "text": [
      "V-Band Centroid Location: (791.0473116976607, 159.01985840126824)\n",
      "B-Band Centroid Location: (798.7425558271386, 158.2878981994606)\n",
      "R-Band Centroid Location: (797.2534730445241, 158.46304458956482)\n"
     ]
    }
   ],
   "source": [
    "# finding the centroids\n",
    "\n",
    "v = centroid(scimV)\n",
    "b = centroid(scimB)\n",
    "r = centroid(scimR)\n",
    "print(\"V-Band Centroid Location: {}\".format(v))\n",
    "print(\"B-Band Centroid Location: {}\".format(b))\n",
    "print(\"R-Band Centroid Location: {}\".format(r))\n"
   ]
  },
  {
   "cell_type": "markdown",
   "id": "92679fd2",
   "metadata": {},
   "source": [
    "The shifting function takes an image collection and its respective list of image data and performs the shifting on them. The x and y offest was determined by running the above function and using trial and error to find the best offset to perform the shift with. The fuction then runs through each image of the scim list and finally saves creates new files with the notation sproc to indicate the images have already been shifted"
   ]
  },
  {
   "cell_type": "code",
   "execution_count": 8,
   "id": "9fd3a413",
   "metadata": {},
   "outputs": [],
   "source": [
    "# FUnction to shift the images using the found centroind\n",
    "\n",
    "def shifting(images: ccdproc.ImageFileCollection, scim: list) -> None: #files are image collection, used to rename and save files\n",
    "    \n",
    "    \n",
    "    xoffset = 760  # x edge of the box \n",
    "    yoffset = 140 # y edge of the box\n",
    "    xbox = 100       # x length of the box\n",
    "    ybox = 100   \n",
    "    shiftx = []\n",
    "    shifty = []\n",
    "    \n",
    "    shiftdata = {\n",
    "        'Centroid (x)': [], \n",
    "        'Centroid (y)': [], \n",
    "        'Shift (x)': [], \n",
    "        'Shift (y)': []\n",
    "    }\n",
    "    \n",
    "    \n",
    "    for idx, thisimage in enumerate(scim): \n",
    "        temp = thisimage.copy()\n",
    "        temp = temp-np.ma.median(temp)\n",
    "        x1, y1 = centroid_2dg( temp[yoffset : yoffset + ybox, xoffset : xoffset + xbox]) #forming the centroid\n",
    "        #print(x1 +xoffset, y1 + yoffset )\n",
    "        shiftx.append(x1 + xoffset) #fills the shift list\n",
    "        shifty.append(y1 + yoffset) #fills the shift list\n",
    "        \n",
    "    \n",
    "    \n",
    "    shifts=[] #creates new lst\n",
    "    for i in range(len(shiftx)):\n",
    "        shifts.append((np.rint(shiftx[0]-shiftx[i]),np.rint(shifty[0]-shifty[i]))) #subtracts each images centroid location from\n",
    "        #the each image of NGC2362 and appends it to the list shift as a touple\n",
    "    print(shifts)\n",
    "    xoffset = 760  # x edge of the box \n",
    "    yoffset = 140 # y edge of the box\n",
    "    xbox = 100       # x length of the box\n",
    "    ybox = 100       # y length of the box\n",
    "    \n",
    "\n",
    "    # For the images in scim, it applies the shift on the centroid\n",
    "    for idx, thisimage in enumerate(scim): \n",
    "        yxshifts=(shifts[idx][1], shifts[idx][0]) # Note the y-x convention being used here and in the following command.\n",
    "        temp = shift(scim[idx], yxshifts, order=0, mode='constant', cval=-1000)\n",
    "        temp=temp-np.ma.median(temp) #calculates median of temp\n",
    "\n",
    "        # prints the new location of the images centroids and prints how much they have been shifted on each axis\n",
    "        x1, y1 = centroid_2dg(temp[yoffset:yoffset+ybox,xoffset:xoffset+xbox])\n",
    "        shiftdata['Centroid (x)'].append(x1+xoffset)\n",
    "        shiftdata['Centroid (y)'].append(y1+yoffset)\n",
    "        shiftdata['Shift (x)'].append(shifts[idx][0]), \n",
    "        shiftdata['Shift (y)'].append(shifts[idx][1]) \n",
    "                \n",
    "     \n",
    "    newname=[] #creates a new list\n",
    "    for fn in images.files_filtered(PICTTYPE=1):#for filename with image type 1\n",
    "        newname.extend([\"s\"+fn])# add s to the start of the file so it goes from fit to fits\n",
    "    print(newname)#prints the list of new names\n",
    "\n",
    "    df = pd.DataFrame(data=shiftdata, index=newname)\n",
    "    print(df)\n",
    "    \n",
    "    for idx, thisimage in enumerate(scim): \n",
    "        yxshifts=(shifts[idx][1], shifts[idx][0])\n",
    "        temp = CCDData(shift(scim[idx], yxshifts, order=0, mode='constant', cval=-1000)-np.ma.median(scim[idx]), unit=\"adu\")\n",
    "        temp.header = scim[idx].header\n",
    "        temp.write(newname[idx])\n",
    "    \n",
    "    "
   ]
  },
  {
   "cell_type": "code",
   "execution_count": 9,
   "id": "38d94656",
   "metadata": {
    "scrolled": true
   },
   "outputs": [
    {
     "name": "stderr",
     "output_type": "stream",
     "text": [
      "WARNING: The fit may be unsuccessful; check fit_info['message'] for more information. [astropy.modeling.fitting]\n",
      "WARNING:astropy:The fit may be unsuccessful; check fit_info['message'] for more information.\n",
      "WARNING: The fit may be unsuccessful; check fit_info['message'] for more information. [astropy.modeling.fitting]\n",
      "WARNING:astropy:The fit may be unsuccessful; check fit_info['message'] for more information.\n",
      "WARNING: The fit may be unsuccessful; check fit_info['message'] for more information. [astropy.modeling.fitting]\n",
      "WARNING:astropy:The fit may be unsuccessful; check fit_info['message'] for more information.\n",
      "WARNING: The fit may be unsuccessful; check fit_info['message'] for more information. [astropy.modeling.fitting]\n",
      "WARNING:astropy:The fit may be unsuccessful; check fit_info['message'] for more information.\n",
      "WARNING: The fit may be unsuccessful; check fit_info['message'] for more information. [astropy.modeling.fitting]\n",
      "WARNING:astropy:The fit may be unsuccessful; check fit_info['message'] for more information.\n",
      "WARNING: The fit may be unsuccessful; check fit_info['message'] for more information. [astropy.modeling.fitting]\n",
      "WARNING:astropy:The fit may be unsuccessful; check fit_info['message'] for more information.\n",
      "WARNING: The fit may be unsuccessful; check fit_info['message'] for more information. [astropy.modeling.fitting]\n",
      "WARNING:astropy:The fit may be unsuccessful; check fit_info['message'] for more information.\n",
      "WARNING: The fit may be unsuccessful; check fit_info['message'] for more information. [astropy.modeling.fitting]\n",
      "WARNING:astropy:The fit may be unsuccessful; check fit_info['message'] for more information.\n",
      "WARNING: The fit may be unsuccessful; check fit_info['message'] for more information. [astropy.modeling.fitting]\n",
      "WARNING:astropy:The fit may be unsuccessful; check fit_info['message'] for more information.\n",
      "WARNING: The fit may be unsuccessful; check fit_info['message'] for more information. [astropy.modeling.fitting]\n",
      "WARNING:astropy:The fit may be unsuccessful; check fit_info['message'] for more information.\n",
      "WARNING: The fit may be unsuccessful; check fit_info['message'] for more information. [astropy.modeling.fitting]\n",
      "WARNING:astropy:The fit may be unsuccessful; check fit_info['message'] for more information.\n",
      "WARNING: The fit may be unsuccessful; check fit_info['message'] for more information. [astropy.modeling.fitting]\n",
      "WARNING:astropy:The fit may be unsuccessful; check fit_info['message'] for more information.\n",
      "WARNING: The fit may be unsuccessful; check fit_info['message'] for more information. [astropy.modeling.fitting]\n",
      "WARNING:astropy:The fit may be unsuccessful; check fit_info['message'] for more information.\n",
      "WARNING: The fit may be unsuccessful; check fit_info['message'] for more information. [astropy.modeling.fitting]\n",
      "WARNING:astropy:The fit may be unsuccessful; check fit_info['message'] for more information.\n",
      "WARNING: The fit may be unsuccessful; check fit_info['message'] for more information. [astropy.modeling.fitting]\n",
      "WARNING:astropy:The fit may be unsuccessful; check fit_info['message'] for more information.\n"
     ]
    },
    {
     "name": "stdout",
     "output_type": "stream",
     "text": [
      "[(0.0, 0.0), (-0.0, -0.0), (2.0, -1.0), (3.0, -0.0), (4.0, -1.0), (6.0, -1.0), (4.0, -1.0), (4.0, -2.0), (3.0, -2.0), (1.0, -1.0), (-1.0, -7.0), (-1.0, -8.0), (-1.0, -8.0), (-1.0, -8.0), (-1.0, -8.0)]\n"
     ]
    },
    {
     "name": "stderr",
     "output_type": "stream",
     "text": [
      "WARNING: The fit may be unsuccessful; check fit_info['message'] for more information. [astropy.modeling.fitting]\n",
      "WARNING:astropy:The fit may be unsuccessful; check fit_info['message'] for more information.\n",
      "WARNING: The fit may be unsuccessful; check fit_info['message'] for more information. [astropy.modeling.fitting]\n",
      "WARNING:astropy:The fit may be unsuccessful; check fit_info['message'] for more information.\n",
      "WARNING: The fit may be unsuccessful; check fit_info['message'] for more information. [astropy.modeling.fitting]\n",
      "WARNING:astropy:The fit may be unsuccessful; check fit_info['message'] for more information.\n",
      "WARNING: The fit may be unsuccessful; check fit_info['message'] for more information. [astropy.modeling.fitting]\n",
      "WARNING:astropy:The fit may be unsuccessful; check fit_info['message'] for more information.\n",
      "WARNING: The fit may be unsuccessful; check fit_info['message'] for more information. [astropy.modeling.fitting]\n",
      "WARNING:astropy:The fit may be unsuccessful; check fit_info['message'] for more information.\n",
      "WARNING: The fit may be unsuccessful; check fit_info['message'] for more information. [astropy.modeling.fitting]\n",
      "WARNING:astropy:The fit may be unsuccessful; check fit_info['message'] for more information.\n",
      "WARNING: The fit may be unsuccessful; check fit_info['message'] for more information. [astropy.modeling.fitting]\n",
      "WARNING:astropy:The fit may be unsuccessful; check fit_info['message'] for more information.\n",
      "WARNING: The fit may be unsuccessful; check fit_info['message'] for more information. [astropy.modeling.fitting]\n",
      "WARNING:astropy:The fit may be unsuccessful; check fit_info['message'] for more information.\n",
      "WARNING: The fit may be unsuccessful; check fit_info['message'] for more information. [astropy.modeling.fitting]\n",
      "WARNING:astropy:The fit may be unsuccessful; check fit_info['message'] for more information.\n",
      "WARNING: The fit may be unsuccessful; check fit_info['message'] for more information. [astropy.modeling.fitting]\n",
      "WARNING:astropy:The fit may be unsuccessful; check fit_info['message'] for more information.\n",
      "WARNING: The fit may be unsuccessful; check fit_info['message'] for more information. [astropy.modeling.fitting]\n",
      "WARNING:astropy:The fit may be unsuccessful; check fit_info['message'] for more information.\n",
      "WARNING: The fit may be unsuccessful; check fit_info['message'] for more information. [astropy.modeling.fitting]\n",
      "WARNING:astropy:The fit may be unsuccessful; check fit_info['message'] for more information.\n",
      "WARNING: The fit may be unsuccessful; check fit_info['message'] for more information. [astropy.modeling.fitting]\n",
      "WARNING:astropy:The fit may be unsuccessful; check fit_info['message'] for more information.\n",
      "WARNING: The fit may be unsuccessful; check fit_info['message'] for more information. [astropy.modeling.fitting]\n",
      "WARNING:astropy:The fit may be unsuccessful; check fit_info['message'] for more information.\n"
     ]
    },
    {
     "name": "stdout",
     "output_type": "stream",
     "text": [
      "['sproc_NGC 2323_V_10.000secs_00002245.fit', 'sproc_NGC 2323_V_10.000secs_00002246.fit', 'sproc_NGC 2323_V_10.000secs_00002247.fit', 'sproc_NGC 2323_V_10.000secs_00002248.fit', 'sproc_NGC 2323_V_10.000secs_00002249.fit', 'sproc_NGC 2323_V_10.000secs_00002250.fit', 'sproc_NGC 2323_V_10.000secs_00002251.fit', 'sproc_NGC 2323_V_10.000secs_00002252.fit', 'sproc_NGC 2323_V_10.000secs_00002253.fit', 'sproc_NGC 2323_V_10.000secs_00002254.fit', 'sproc_NGC 2323_V_120.000secs_00002270.fit', 'sproc_NGC 2323_V_120.000secs_00002271.fit', 'sproc_NGC 2323_V_120.000secs_00002272.fit', 'sproc_NGC 2323_V_120.000secs_00002273.fit', 'sproc_NGC 2323_V_120.000secs_00002274.fit']\n",
      "                                           Centroid (x)  Centroid (y)  \\\n",
      "sproc_NGC 2323_V_10.000secs_00002245.fit     791.047599    159.019485   \n",
      "sproc_NGC 2323_V_10.000secs_00002246.fit     791.199405    159.355005   \n",
      "sproc_NGC 2323_V_10.000secs_00002247.fit     791.137373    158.550174   \n",
      "sproc_NGC 2323_V_10.000secs_00002248.fit     790.911858    159.367630   \n",
      "sproc_NGC 2323_V_10.000secs_00002249.fit     791.444453    159.085610   \n",
      "sproc_NGC 2323_V_10.000secs_00002250.fit     791.400129    158.722183   \n",
      "sproc_NGC 2323_V_10.000secs_00002251.fit     791.050939    159.258429   \n",
      "sproc_NGC 2323_V_10.000secs_00002252.fit     791.271077    158.853851   \n",
      "sproc_NGC 2323_V_10.000secs_00002253.fit     791.008777    158.777554   \n",
      "sproc_NGC 2323_V_10.000secs_00002254.fit     791.030253    159.423631   \n",
      "sproc_NGC 2323_V_120.000secs_00002270.fit    791.506768    159.449955   \n",
      "sproc_NGC 2323_V_120.000secs_00002271.fit    791.457786    158.623243   \n",
      "sproc_NGC 2323_V_120.000secs_00002272.fit    791.370973    158.541777   \n",
      "sproc_NGC 2323_V_120.000secs_00002273.fit    791.300890    158.917150   \n",
      "sproc_NGC 2323_V_120.000secs_00002274.fit    791.260039    158.802579   \n",
      "\n",
      "                                           Shift (x)  Shift (y)  \n",
      "sproc_NGC 2323_V_10.000secs_00002245.fit         0.0        0.0  \n",
      "sproc_NGC 2323_V_10.000secs_00002246.fit        -0.0       -0.0  \n",
      "sproc_NGC 2323_V_10.000secs_00002247.fit         2.0       -1.0  \n",
      "sproc_NGC 2323_V_10.000secs_00002248.fit         3.0       -0.0  \n",
      "sproc_NGC 2323_V_10.000secs_00002249.fit         4.0       -1.0  \n",
      "sproc_NGC 2323_V_10.000secs_00002250.fit         6.0       -1.0  \n",
      "sproc_NGC 2323_V_10.000secs_00002251.fit         4.0       -1.0  \n",
      "sproc_NGC 2323_V_10.000secs_00002252.fit         4.0       -2.0  \n",
      "sproc_NGC 2323_V_10.000secs_00002253.fit         3.0       -2.0  \n",
      "sproc_NGC 2323_V_10.000secs_00002254.fit         1.0       -1.0  \n",
      "sproc_NGC 2323_V_120.000secs_00002270.fit       -1.0       -7.0  \n",
      "sproc_NGC 2323_V_120.000secs_00002271.fit       -1.0       -8.0  \n",
      "sproc_NGC 2323_V_120.000secs_00002272.fit       -1.0       -8.0  \n",
      "sproc_NGC 2323_V_120.000secs_00002273.fit       -1.0       -8.0  \n",
      "sproc_NGC 2323_V_120.000secs_00002274.fit       -1.0       -8.0  \n"
     ]
    },
    {
     "ename": "OSError",
     "evalue": "File 'sproc_NGC 2323_V_10.000secs_00002245.fit' already exists.",
     "output_type": "error",
     "traceback": [
      "\u001b[1;31m---------------------------------------------------------------------------\u001b[0m",
      "\u001b[1;31mOSError\u001b[0m                                   Traceback (most recent call last)",
      "Input \u001b[1;32mIn [9]\u001b[0m, in \u001b[0;36m<module>\u001b[1;34m\u001b[0m\n\u001b[1;32m----> 1\u001b[0m \u001b[43mshifting\u001b[49m\u001b[43m(\u001b[49m\u001b[43mimagesV\u001b[49m\u001b[43m,\u001b[49m\u001b[43m \u001b[49m\u001b[43mscimV\u001b[49m\u001b[43m)\u001b[49m\n",
      "Input \u001b[1;32mIn [8]\u001b[0m, in \u001b[0;36mshifting\u001b[1;34m(images, scim)\u001b[0m\n\u001b[0;32m     64\u001b[0m temp \u001b[38;5;241m=\u001b[39m CCDData(shift(scim[idx], yxshifts, order\u001b[38;5;241m=\u001b[39m\u001b[38;5;241m0\u001b[39m, mode\u001b[38;5;241m=\u001b[39m\u001b[38;5;124m'\u001b[39m\u001b[38;5;124mconstant\u001b[39m\u001b[38;5;124m'\u001b[39m, cval\u001b[38;5;241m=\u001b[39m\u001b[38;5;241m-\u001b[39m\u001b[38;5;241m1000\u001b[39m)\u001b[38;5;241m-\u001b[39mnp\u001b[38;5;241m.\u001b[39mma\u001b[38;5;241m.\u001b[39mmedian(scim[idx]), unit\u001b[38;5;241m=\u001b[39m\u001b[38;5;124m\"\u001b[39m\u001b[38;5;124madu\u001b[39m\u001b[38;5;124m\"\u001b[39m)\n\u001b[0;32m     65\u001b[0m temp\u001b[38;5;241m.\u001b[39mheader \u001b[38;5;241m=\u001b[39m scim[idx]\u001b[38;5;241m.\u001b[39mheader\n\u001b[1;32m---> 66\u001b[0m \u001b[43mtemp\u001b[49m\u001b[38;5;241;43m.\u001b[39;49m\u001b[43mwrite\u001b[49m\u001b[43m(\u001b[49m\u001b[43mnewname\u001b[49m\u001b[43m[\u001b[49m\u001b[43midx\u001b[49m\u001b[43m]\u001b[49m\u001b[43m)\u001b[49m\n",
      "File \u001b[1;32m~\\anaconda3\\envs\\obsastro2022\\lib\\site-packages\\astropy\\nddata\\mixins\\ndio.py:101\u001b[0m, in \u001b[0;36mNDDataWrite.__call__\u001b[1;34m(self, *args, **kwargs)\u001b[0m\n\u001b[0;32m    100\u001b[0m \u001b[38;5;28;01mdef\u001b[39;00m \u001b[38;5;21m__call__\u001b[39m(\u001b[38;5;28mself\u001b[39m, \u001b[38;5;241m*\u001b[39margs, \u001b[38;5;241m*\u001b[39m\u001b[38;5;241m*\u001b[39mkwargs):\n\u001b[1;32m--> 101\u001b[0m     registry\u001b[38;5;241m.\u001b[39mwrite(\u001b[38;5;28mself\u001b[39m\u001b[38;5;241m.\u001b[39m_instance, \u001b[38;5;241m*\u001b[39margs, \u001b[38;5;241m*\u001b[39m\u001b[38;5;241m*\u001b[39mkwargs)\n",
      "File \u001b[1;32m~\\anaconda3\\envs\\obsastro2022\\lib\\site-packages\\astropy\\io\\registry.py:563\u001b[0m, in \u001b[0;36mwrite\u001b[1;34m(data, format, *args, **kwargs)\u001b[0m\n\u001b[0;32m    559\u001b[0m     \u001b[38;5;28mformat\u001b[39m \u001b[38;5;241m=\u001b[39m _get_valid_format(\n\u001b[0;32m    560\u001b[0m         \u001b[38;5;124m'\u001b[39m\u001b[38;5;124mwrite\u001b[39m\u001b[38;5;124m'\u001b[39m, data\u001b[38;5;241m.\u001b[39m\u001b[38;5;18m__class__\u001b[39m, path, fileobj, args, kwargs)\n\u001b[0;32m    562\u001b[0m writer \u001b[38;5;241m=\u001b[39m get_writer(\u001b[38;5;28mformat\u001b[39m, data\u001b[38;5;241m.\u001b[39m\u001b[38;5;18m__class__\u001b[39m)\n\u001b[1;32m--> 563\u001b[0m writer(data, \u001b[38;5;241m*\u001b[39margs, \u001b[38;5;241m*\u001b[39m\u001b[38;5;241m*\u001b[39mkwargs)\n",
      "File \u001b[1;32m~\\anaconda3\\envs\\obsastro2022\\lib\\site-packages\\astropy\\nddata\\ccddata.py:714\u001b[0m, in \u001b[0;36mfits_ccddata_writer\u001b[1;34m(ccd_data, filename, hdu_mask, hdu_uncertainty, hdu_flags, key_uncertainty_type, **kwd)\u001b[0m\n\u001b[0;32m    673\u001b[0m \u001b[38;5;124;03m\"\"\"\u001b[39;00m\n\u001b[0;32m    674\u001b[0m \u001b[38;5;124;03mWrite CCDData object to FITS file.\u001b[39;00m\n\u001b[0;32m    675\u001b[0m \n\u001b[1;32m   (...)\u001b[0m\n\u001b[0;32m    709\u001b[0m \u001b[38;5;124;03m    Saving flags is not supported.\u001b[39;00m\n\u001b[0;32m    710\u001b[0m \u001b[38;5;124;03m\"\"\"\u001b[39;00m\n\u001b[0;32m    711\u001b[0m hdu \u001b[38;5;241m=\u001b[39m ccd_data\u001b[38;5;241m.\u001b[39mto_hdu(\n\u001b[0;32m    712\u001b[0m     hdu_mask\u001b[38;5;241m=\u001b[39mhdu_mask, hdu_uncertainty\u001b[38;5;241m=\u001b[39mhdu_uncertainty,\n\u001b[0;32m    713\u001b[0m     key_uncertainty_type\u001b[38;5;241m=\u001b[39mkey_uncertainty_type, hdu_flags\u001b[38;5;241m=\u001b[39mhdu_flags)\n\u001b[1;32m--> 714\u001b[0m hdu\u001b[38;5;241m.\u001b[39mwriteto(filename, \u001b[38;5;241m*\u001b[39m\u001b[38;5;241m*\u001b[39mkwd)\n",
      "File \u001b[1;32m~\\anaconda3\\envs\\obsastro2022\\lib\\site-packages\\astropy\\utils\\decorators.py:535\u001b[0m, in \u001b[0;36mdeprecated_renamed_argument.<locals>.decorator.<locals>.wrapper\u001b[1;34m(*args, **kwargs)\u001b[0m\n\u001b[0;32m    532\u001b[0m             message \u001b[38;5;241m+\u001b[39m\u001b[38;5;241m=\u001b[39m \u001b[38;5;124mf\u001b[39m\u001b[38;5;124m'\u001b[39m\u001b[38;5;130;01m\\n\u001b[39;00m\u001b[38;5;124m        Use \u001b[39m\u001b[38;5;132;01m{\u001b[39;00malternative\u001b[38;5;132;01m}\u001b[39;00m\u001b[38;5;124m instead.\u001b[39m\u001b[38;5;124m'\u001b[39m\n\u001b[0;32m    533\u001b[0m         warnings\u001b[38;5;241m.\u001b[39mwarn(message, warning_type, stacklevel\u001b[38;5;241m=\u001b[39m\u001b[38;5;241m2\u001b[39m)\n\u001b[1;32m--> 535\u001b[0m \u001b[38;5;28;01mreturn\u001b[39;00m function(\u001b[38;5;241m*\u001b[39margs, \u001b[38;5;241m*\u001b[39m\u001b[38;5;241m*\u001b[39mkwargs)\n",
      "File \u001b[1;32m~\\anaconda3\\envs\\obsastro2022\\lib\\site-packages\\astropy\\io\\fits\\hdu\\hdulist.py:933\u001b[0m, in \u001b[0;36mHDUList.writeto\u001b[1;34m(self, fileobj, output_verify, overwrite, checksum)\u001b[0m\n\u001b[0;32m    929\u001b[0m mode \u001b[38;5;241m=\u001b[39m FILE_MODES[fileobj_mode(fileobj)] \u001b[38;5;28;01mif\u001b[39;00m isfile(fileobj) \u001b[38;5;28;01melse\u001b[39;00m \u001b[38;5;124m'\u001b[39m\u001b[38;5;124mostream\u001b[39m\u001b[38;5;124m'\u001b[39m\n\u001b[0;32m    931\u001b[0m \u001b[38;5;66;03m# This can accept an open file object that's open to write only, or in\u001b[39;00m\n\u001b[0;32m    932\u001b[0m \u001b[38;5;66;03m# append/update modes but only if the file doesn't exist.\u001b[39;00m\n\u001b[1;32m--> 933\u001b[0m fileobj \u001b[38;5;241m=\u001b[39m \u001b[43m_File\u001b[49m\u001b[43m(\u001b[49m\u001b[43mfileobj\u001b[49m\u001b[43m,\u001b[49m\u001b[43m \u001b[49m\u001b[43mmode\u001b[49m\u001b[38;5;241;43m=\u001b[39;49m\u001b[43mmode\u001b[49m\u001b[43m,\u001b[49m\u001b[43m \u001b[49m\u001b[43moverwrite\u001b[49m\u001b[38;5;241;43m=\u001b[39;49m\u001b[43moverwrite\u001b[49m\u001b[43m)\u001b[49m\n\u001b[0;32m    934\u001b[0m hdulist \u001b[38;5;241m=\u001b[39m \u001b[38;5;28mself\u001b[39m\u001b[38;5;241m.\u001b[39mfromfile(fileobj)\n\u001b[0;32m    935\u001b[0m \u001b[38;5;28;01mtry\u001b[39;00m:\n",
      "File \u001b[1;32m~\\anaconda3\\envs\\obsastro2022\\lib\\site-packages\\astropy\\utils\\decorators.py:535\u001b[0m, in \u001b[0;36mdeprecated_renamed_argument.<locals>.decorator.<locals>.wrapper\u001b[1;34m(*args, **kwargs)\u001b[0m\n\u001b[0;32m    532\u001b[0m             message \u001b[38;5;241m+\u001b[39m\u001b[38;5;241m=\u001b[39m \u001b[38;5;124mf\u001b[39m\u001b[38;5;124m'\u001b[39m\u001b[38;5;130;01m\\n\u001b[39;00m\u001b[38;5;124m        Use \u001b[39m\u001b[38;5;132;01m{\u001b[39;00malternative\u001b[38;5;132;01m}\u001b[39;00m\u001b[38;5;124m instead.\u001b[39m\u001b[38;5;124m'\u001b[39m\n\u001b[0;32m    533\u001b[0m         warnings\u001b[38;5;241m.\u001b[39mwarn(message, warning_type, stacklevel\u001b[38;5;241m=\u001b[39m\u001b[38;5;241m2\u001b[39m)\n\u001b[1;32m--> 535\u001b[0m \u001b[38;5;28;01mreturn\u001b[39;00m function(\u001b[38;5;241m*\u001b[39margs, \u001b[38;5;241m*\u001b[39m\u001b[38;5;241m*\u001b[39mkwargs)\n",
      "File \u001b[1;32m~\\anaconda3\\envs\\obsastro2022\\lib\\site-packages\\astropy\\io\\fits\\file.py:175\u001b[0m, in \u001b[0;36m_File.__init__\u001b[1;34m(self, fileobj, mode, memmap, overwrite, cache)\u001b[0m\n\u001b[0;32m    173\u001b[0m     \u001b[38;5;28mself\u001b[39m\u001b[38;5;241m.\u001b[39m_open_fileobj(fileobj, mode, overwrite)\n\u001b[0;32m    174\u001b[0m \u001b[38;5;28;01melif\u001b[39;00m \u001b[38;5;28misinstance\u001b[39m(fileobj, (\u001b[38;5;28mstr\u001b[39m, \u001b[38;5;28mbytes\u001b[39m)):\n\u001b[1;32m--> 175\u001b[0m     \u001b[38;5;28;43mself\u001b[39;49m\u001b[38;5;241;43m.\u001b[39;49m\u001b[43m_open_filename\u001b[49m\u001b[43m(\u001b[49m\u001b[43mfileobj\u001b[49m\u001b[43m,\u001b[49m\u001b[43m \u001b[49m\u001b[43mmode\u001b[49m\u001b[43m,\u001b[49m\u001b[43m \u001b[49m\u001b[43moverwrite\u001b[49m\u001b[43m)\u001b[49m\n\u001b[0;32m    176\u001b[0m \u001b[38;5;28;01melse\u001b[39;00m:\n\u001b[0;32m    177\u001b[0m     \u001b[38;5;28mself\u001b[39m\u001b[38;5;241m.\u001b[39m_open_filelike(fileobj, mode, overwrite)\n",
      "File \u001b[1;32m~\\anaconda3\\envs\\obsastro2022\\lib\\site-packages\\astropy\\io\\fits\\file.py:553\u001b[0m, in \u001b[0;36m_File._open_filename\u001b[1;34m(self, filename, mode, overwrite)\u001b[0m\n\u001b[0;32m    550\u001b[0m \u001b[38;5;124;03m\"\"\"Open a FITS file from a filename string.\"\"\"\u001b[39;00m\n\u001b[0;32m    552\u001b[0m \u001b[38;5;28;01mif\u001b[39;00m mode \u001b[38;5;241m==\u001b[39m \u001b[38;5;124m'\u001b[39m\u001b[38;5;124mostream\u001b[39m\u001b[38;5;124m'\u001b[39m:\n\u001b[1;32m--> 553\u001b[0m     \u001b[38;5;28;43mself\u001b[39;49m\u001b[38;5;241;43m.\u001b[39;49m\u001b[43m_overwrite_existing\u001b[49m\u001b[43m(\u001b[49m\u001b[43moverwrite\u001b[49m\u001b[43m,\u001b[49m\u001b[43m \u001b[49m\u001b[38;5;28;43;01mNone\u001b[39;49;00m\u001b[43m,\u001b[49m\u001b[43m \u001b[49m\u001b[38;5;28;43;01mTrue\u001b[39;49;00m\u001b[43m)\u001b[49m\n\u001b[0;32m    555\u001b[0m \u001b[38;5;28;01mif\u001b[39;00m os\u001b[38;5;241m.\u001b[39mpath\u001b[38;5;241m.\u001b[39mexists(\u001b[38;5;28mself\u001b[39m\u001b[38;5;241m.\u001b[39mname):\n\u001b[0;32m    556\u001b[0m     \u001b[38;5;28;01mwith\u001b[39;00m fileobj_open(\u001b[38;5;28mself\u001b[39m\u001b[38;5;241m.\u001b[39mname, \u001b[38;5;124m'\u001b[39m\u001b[38;5;124mrb\u001b[39m\u001b[38;5;124m'\u001b[39m) \u001b[38;5;28;01mas\u001b[39;00m f:\n",
      "File \u001b[1;32m~\\anaconda3\\envs\\obsastro2022\\lib\\site-packages\\astropy\\io\\fits\\file.py:443\u001b[0m, in \u001b[0;36m_File._overwrite_existing\u001b[1;34m(self, overwrite, fileobj, closed)\u001b[0m\n\u001b[0;32m    441\u001b[0m         os\u001b[38;5;241m.\u001b[39mremove(\u001b[38;5;28mself\u001b[39m\u001b[38;5;241m.\u001b[39mname)\n\u001b[0;32m    442\u001b[0m \u001b[38;5;28;01melse\u001b[39;00m:\n\u001b[1;32m--> 443\u001b[0m     \u001b[38;5;28;01mraise\u001b[39;00m \u001b[38;5;167;01mOSError\u001b[39;00m(\u001b[38;5;124mf\u001b[39m\u001b[38;5;124m\"\u001b[39m\u001b[38;5;124mFile \u001b[39m\u001b[38;5;132;01m{\u001b[39;00m\u001b[38;5;28mself\u001b[39m\u001b[38;5;241m.\u001b[39mname\u001b[38;5;132;01m!r}\u001b[39;00m\u001b[38;5;124m already exists.\u001b[39m\u001b[38;5;124m\"\u001b[39m)\n",
      "\u001b[1;31mOSError\u001b[0m: File 'sproc_NGC 2323_V_10.000secs_00002245.fit' already exists."
     ]
    }
   ],
   "source": [
    "# Shifting the images\n",
    "\n",
    "shifting(imagesV, scimV)\n",
    "shifting(imagesB, scimB)\n",
    "shifting(imagesR, scimR)"
   ]
  },
  {
   "cell_type": "markdown",
   "id": "d0119308",
   "metadata": {},
   "source": [
    "# Scaling"
   ]
  },
  {
   "cell_type": "markdown",
   "id": "fea3ef5b",
   "metadata": {},
   "source": [
    "The collectsproc function just creates a collection of the sproc images with the given band and creates a list of the given images. It then prints the first image so it can be check manually."
   ]
  },
  {
   "cell_type": "code",
   "execution_count": 24,
   "id": "277071ca",
   "metadata": {},
   "outputs": [],
   "source": [
    "def collectsproc(band: str) -> ccdproc.ImageFileCollection:\n",
    "    images = ccdproc.ImageFileCollection(\".\",glob_include = 'sproc_NGC 2323_'+band+'*') \n",
    "    for fn in images.files_filtered(PICTTYPE = 1):\n",
    "        print(fn)\n",
    "    scim = [CCDData.read(fn, unit = \"adu\") for fn in images.files_filtered(PICTTYPE = 1)]\n",
    "    print(scim[0])\n",
    "    return scim"
   ]
  },
  {
   "cell_type": "markdown",
   "id": "15511ba5",
   "metadata": {},
   "source": [
    "The aperturephotometry function takes in a band (V, B or R) and performs aperture photometry on the images with the respective band. Using the photometry it scales the images using an average and median fit. The function then combines the images together and saves two new files containing an average and median combined images"
   ]
  },
  {
   "cell_type": "code",
   "execution_count": 15,
   "id": "3baefd95",
   "metadata": {},
   "outputs": [],
   "source": [
    "def apeturephotometry(band: str) -> None:\n",
    "    \n",
    "    scim = collectsproc(band)\n",
    "    \n",
    "    positions = [(794,167),(1526,1148), (83,947)]   #x-y notation\n",
    "    apertures = CircularAperture(positions, r=20.0)\n",
    "\n",
    "    phot_table = aperture_photometry(scim[0], apertures)\n",
    "    print('\\n')\n",
    "    print(phot_table)\n",
    "    \n",
    "    phot_table=[] #create new table\n",
    "    for idx, thisimage in enumerate(scim): # enumerates each image in scim\n",
    "        phot_table.extend([aperture_photometry(thisimage, apertures)]) #performs appeture photometry on each image for each given star location\n",
    "        print(idx, phot_table[idx]) #prints the stars location and the adu of the star\n",
    "    \n",
    "    \n",
    "#     for idx, thisimage in enumerate(scim): \n",
    "#         print(idx) #prints the index\n",
    "#         print(phot_table[6]['aperture_sum']/phot_table[idx]['aperture_sum'])#prints the appeturesum/photo_tables values of image 7\n",
    "#         print(np.ma.median(phot_table[6]['aperture_sum']/phot_table[idx]['aperture_sum']))#prints the invalid data\n",
    "\n",
    "    images = ccdproc.ImageFileCollection(\".\",glob_include = 'sproc_NGC 2323_'+band+'*')\n",
    "    scim = [CCDData.read(fn) for fn in images.files_filtered()]\n",
    "    for idx, thisimage in enumerate(scim): \n",
    "        m = np.ma.median(phot_table[6]['aperture_sum'] / phot_table[idx]['aperture_sum']) \n",
    "        print(m) \n",
    "        scim[idx] = scim[idx].multiply(m * u.adu) \n",
    "\n",
    "    sci_average = ccdproc.combine(scim, method = 'average',dtype = np.float32, #combines all the images using an average method\n",
    "                                  minmax_clip = True, minmax_clip_min = -500)\n",
    "    sci_average.write(\"NGC_2323_\"+band+\"_average.fits\") #wirtes the average image into a fits file\n",
    "\n",
    "    sci_median = ccdproc.combine(scim, method = 'median',dtype = np.float32,  #combines all images usinging a median method\n",
    "                                 minmax_clip = True, minmax_clip_min = -500)\n",
    "    sci_median.write(\"NGC_2323_\"+band+\"_median.fits\") #writes the median into a fits file\n",
    "\n",
    "    del(scim)\n",
    "    collected = gc.collect() #clears up memory space\n",
    "    print('Check garbage collection', collected)"
   ]
  },
  {
   "cell_type": "code",
   "execution_count": 16,
   "id": "62f13eaf",
   "metadata": {},
   "outputs": [
    {
     "name": "stderr",
     "output_type": "stream",
     "text": [
      "INFO:astropy:using the unit adu passed to the FITS reader instead of the unit adu in the FITS file.\n",
      "WARNING: FITSFixedWarning: 'obsfix' made the change 'Set OBSGEO-X to -4134713.329 from OBSGEO-[LBH].\n",
      "Set OBSGEO-Y to  2879792.379 from OBSGEO-[LBH].\n",
      "Set OBSGEO-Z to -3897419.410 from OBSGEO-[LBH]'. [astropy.wcs.wcs]\n",
      "WARNING:astropy:FITSFixedWarning: 'obsfix' made the change 'Set OBSGEO-X to -4134713.329 from OBSGEO-[LBH].\n",
      "Set OBSGEO-Y to  2879792.379 from OBSGEO-[LBH].\n",
      "Set OBSGEO-Z to -3897419.410 from OBSGEO-[LBH]'.\n"
     ]
    },
    {
     "name": "stdout",
     "output_type": "stream",
     "text": [
      "sproc_NGC 2323_V_10.000secs_00002245.fit\n",
      "sproc_NGC 2323_V_10.000secs_00002246.fit\n",
      "sproc_NGC 2323_V_10.000secs_00002247.fit\n",
      "sproc_NGC 2323_V_10.000secs_00002248.fit\n",
      "sproc_NGC 2323_V_10.000secs_00002249.fit\n",
      "sproc_NGC 2323_V_10.000secs_00002250.fit\n",
      "sproc_NGC 2323_V_10.000secs_00002251.fit\n",
      "sproc_NGC 2323_V_10.000secs_00002252.fit\n",
      "sproc_NGC 2323_V_10.000secs_00002253.fit\n",
      "sproc_NGC 2323_V_10.000secs_00002254.fit\n",
      "sproc_NGC 2323_V_120.000secs_00002270.fit\n",
      "sproc_NGC 2323_V_120.000secs_00002271.fit\n",
      "sproc_NGC 2323_V_120.000secs_00002272.fit\n",
      "sproc_NGC 2323_V_120.000secs_00002273.fit\n",
      "sproc_NGC 2323_V_120.000secs_00002274.fit\n",
      "INFO: using the unit adu passed to the FITS reader instead of the unit adu in the FITS file. [astropy.nddata.ccddata]\n"
     ]
    },
    {
     "name": "stderr",
     "output_type": "stream",
     "text": [
      "INFO:astropy:using the unit adu passed to the FITS reader instead of the unit adu in the FITS file.\n",
      "INFO:astropy:using the unit adu passed to the FITS reader instead of the unit adu in the FITS file.\n",
      "INFO:astropy:using the unit adu passed to the FITS reader instead of the unit adu in the FITS file.\n",
      "INFO:astropy:using the unit adu passed to the FITS reader instead of the unit adu in the FITS file.\n",
      "INFO:astropy:using the unit adu passed to the FITS reader instead of the unit adu in the FITS file.\n",
      "INFO:astropy:using the unit adu passed to the FITS reader instead of the unit adu in the FITS file.\n",
      "INFO:astropy:using the unit adu passed to the FITS reader instead of the unit adu in the FITS file.\n",
      "INFO:astropy:using the unit adu passed to the FITS reader instead of the unit adu in the FITS file.\n"
     ]
    },
    {
     "name": "stdout",
     "output_type": "stream",
     "text": [
      "INFO: using the unit adu passed to the FITS reader instead of the unit adu in the FITS file. [astropy.nddata.ccddata]\n",
      "INFO: using the unit adu passed to the FITS reader instead of the unit adu in the FITS file. [astropy.nddata.ccddata]\n",
      "INFO: using the unit adu passed to the FITS reader instead of the unit adu in the FITS file. [astropy.nddata.ccddata]\n",
      "INFO: using the unit adu passed to the FITS reader instead of the unit adu in the FITS file. [astropy.nddata.ccddata]\n",
      "INFO: using the unit adu passed to the FITS reader instead of the unit adu in the FITS file. [astropy.nddata.ccddata]\n",
      "INFO: using the unit adu passed to the FITS reader instead of the unit adu in the FITS file. [astropy.nddata.ccddata]\n",
      "INFO: using the unit adu passed to the FITS reader instead of the unit adu in the FITS file. [astropy.nddata.ccddata]\n",
      "INFO: using the unit adu passed to the FITS reader instead of the unit adu in the FITS file. [astropy.nddata.ccddata]\n"
     ]
    },
    {
     "name": "stderr",
     "output_type": "stream",
     "text": [
      "INFO:astropy:using the unit adu passed to the FITS reader instead of the unit adu in the FITS file.\n",
      "INFO:astropy:using the unit adu passed to the FITS reader instead of the unit adu in the FITS file.\n",
      "INFO:astropy:using the unit adu passed to the FITS reader instead of the unit adu in the FITS file.\n",
      "INFO:astropy:using the unit adu passed to the FITS reader instead of the unit adu in the FITS file.\n",
      "INFO:astropy:using the unit adu passed to the FITS reader instead of the unit adu in the FITS file.\n",
      "INFO:astropy:using the unit adu passed to the FITS reader instead of the unit adu in the FITS file.\n"
     ]
    },
    {
     "name": "stdout",
     "output_type": "stream",
     "text": [
      "INFO: using the unit adu passed to the FITS reader instead of the unit adu in the FITS file. [astropy.nddata.ccddata]\n",
      "INFO: using the unit adu passed to the FITS reader instead of the unit adu in the FITS file. [astropy.nddata.ccddata]\n",
      "INFO: using the unit adu passed to the FITS reader instead of the unit adu in the FITS file. [astropy.nddata.ccddata]\n",
      "INFO: using the unit adu passed to the FITS reader instead of the unit adu in the FITS file. [astropy.nddata.ccddata]\n",
      "INFO: using the unit adu passed to the FITS reader instead of the unit adu in the FITS file. [astropy.nddata.ccddata]\n",
      "INFO: using the unit adu passed to the FITS reader instead of the unit adu in the FITS file. [astropy.nddata.ccddata]\n",
      "[[  16.45224    -22.957642    77.26846   ...   32.498398   -45.93538\n",
      "     8.591614 ]\n",
      " [ -46.42       -38.088455    -6.347534  ...  -49.393295   -58.00557\n",
      "   -21.486526 ]\n",
      " [ -29.802887    89.431366   -13.309525  ...   61.42624   -122.07824\n",
      "   -19.92157  ]\n",
      " ...\n",
      " [  92.87537    -53.67021    100.221405  ...    5.7256775   42.267273\n",
      "    15.421402 ]\n",
      " [  25.003403    98.07526     53.007477  ...   43.694153    10.686829\n",
      "  -100.55908  ]\n",
      " [  93.71106    -10.011612    64.29556   ...  -64.644775     1.6576691\n",
      "   -30.68901  ]]\n",
      "\n",
      "\n",
      " id xcenter ycenter    aperture_sum   \n",
      "      pix     pix          adu        \n",
      "--- ------- ------- ------------------\n",
      "  1   794.0   167.0 2746325.7382613434\n",
      "  2  1526.0  1148.0 180247.83329905284\n",
      "  3    83.0   947.0  300755.1248735992\n",
      "0  id xcenter ycenter    aperture_sum   \n",
      "      pix     pix          adu        \n",
      "--- ------- ------- ------------------\n",
      "  1   794.0   167.0 2746325.7382613434\n",
      "  2  1526.0  1148.0 180247.83329905284\n",
      "  3    83.0   947.0  300755.1248735992\n",
      "1  id xcenter ycenter    aperture_sum   \n",
      "      pix     pix          adu        \n",
      "--- ------- ------- ------------------\n",
      "  1   794.0   167.0 2782872.9733921587\n",
      "  2  1526.0  1148.0  175140.1317289247\n",
      "  3    83.0   947.0  299500.0494536767\n",
      "2  id xcenter ycenter    aperture_sum   \n",
      "      pix     pix          adu        \n",
      "--- ------- ------- ------------------\n",
      "  1   794.0   167.0 2752247.0430444446\n",
      "  2  1526.0  1148.0 179784.54827695322\n",
      "  3    83.0   947.0 297827.22183634783\n",
      "3  id xcenter ycenter    aperture_sum   \n",
      "      pix     pix          adu        \n",
      "--- ------- ------- ------------------\n",
      "  1   794.0   167.0  2635721.854391929\n",
      "  2  1526.0  1148.0 175886.53955546115\n",
      "  3    83.0   947.0 301791.60141197057\n",
      "4  id xcenter ycenter    aperture_sum   \n",
      "      pix     pix          adu        \n",
      "--- ------- ------- ------------------\n",
      "  1   794.0   167.0 2753910.5732440734\n",
      "  2  1526.0  1148.0 181710.87813310497\n",
      "  3    83.0   947.0  298366.5771590502\n",
      "5  id xcenter ycenter    aperture_sum   \n",
      "      pix     pix          adu        \n",
      "--- ------- ------- ------------------\n",
      "  1   794.0   167.0 2739305.5485604764\n",
      "  2  1526.0  1148.0 180227.92304879078\n",
      "  3    83.0   947.0  303723.8017897528\n",
      "6  id xcenter ycenter    aperture_sum   \n",
      "      pix     pix          adu        \n",
      "--- ------- ------- ------------------\n",
      "  1   794.0   167.0  2728401.645921665\n",
      "  2  1526.0  1148.0 174957.83152367585\n",
      "  3    83.0   947.0   301664.225221383\n",
      "7  id xcenter ycenter    aperture_sum   \n",
      "      pix     pix          adu        \n",
      "--- ------- ------- ------------------\n",
      "  1   794.0   167.0 2693827.2947781584\n",
      "  2  1526.0  1148.0 178407.00589034575\n",
      "  3    83.0   947.0 298512.11880571005\n",
      "8  id xcenter ycenter    aperture_sum   \n",
      "      pix     pix          adu        \n",
      "--- ------- ------- ------------------\n",
      "  1   794.0   167.0  2724297.013160514\n",
      "  2  1526.0  1148.0 180309.44664139717\n",
      "  3    83.0   947.0  301383.0925279649\n",
      "9  id xcenter ycenter    aperture_sum   \n",
      "      pix     pix          adu        \n",
      "--- ------- ------- ------------------\n",
      "  1   794.0   167.0 2577455.9400722086\n",
      "  2  1526.0  1148.0  180764.4916997808\n",
      "  3    83.0   947.0  297392.0716836314\n",
      "10  id xcenter ycenter    aperture_sum   \n",
      "      pix     pix          adu        \n",
      "--- ------- ------- ------------------\n",
      "  1   794.0   167.0 10956438.311108597\n",
      "  2  1526.0  1148.0   2145997.24349884\n",
      "  3    83.0   947.0 3405829.2906097956\n",
      "11  id xcenter ycenter    aperture_sum   \n",
      "      pix     pix          adu        \n",
      "--- ------- ------- ------------------\n",
      "  1   794.0   167.0 11276237.665383078\n",
      "  2  1526.0  1148.0  2158836.698880204\n",
      "  3    83.0   947.0 3454404.0017958162\n",
      "12  id xcenter ycenter    aperture_sum   \n",
      "      pix     pix          adu        \n",
      "--- ------- ------- ------------------\n",
      "  1   794.0   167.0 10981647.636519484\n",
      "  2  1526.0  1148.0  2109567.683284766\n",
      "  3    83.0   947.0 3377436.0177542553\n",
      "13  id xcenter ycenter    aperture_sum   \n",
      "      pix     pix          adu        \n",
      "--- ------- ------- ------------------\n",
      "  1   794.0   167.0  8350781.275283534\n",
      "  2  1526.0  1148.0 1091742.1773025529\n",
      "  3    83.0   947.0 1730423.8602523557\n",
      "14  id xcenter ycenter    aperture_sum   \n",
      "      pix     pix          adu        \n",
      "--- ------- ------- ------------------\n",
      "  1   794.0   167.0 10912709.854361732\n",
      "  2  1526.0  1148.0 2096276.8858776505\n",
      "  3    83.0   947.0 3360369.1067814534\n"
     ]
    },
    {
     "name": "stderr",
     "output_type": "stream",
     "text": [
      "WARNING: FITSFixedWarning: 'obsfix' made the change 'Set OBSGEO-X to -4134713.329 from OBSGEO-[LBH].\n",
      "Set OBSGEO-Y to  2879792.379 from OBSGEO-[LBH].\n",
      "Set OBSGEO-Z to -3897419.410 from OBSGEO-[LBH]'. [astropy.wcs.wcs]\n",
      "WARNING:astropy:FITSFixedWarning: 'obsfix' made the change 'Set OBSGEO-X to -4134713.329 from OBSGEO-[LBH].\n",
      "Set OBSGEO-Y to  2879792.379 from OBSGEO-[LBH].\n",
      "Set OBSGEO-Z to -3897419.410 from OBSGEO-[LBH]'.\n"
     ]
    },
    {
     "name": "stdout",
     "output_type": "stream",
     "text": [
      "0.9934734281188996\n",
      "0.9989591180305208\n",
      "0.9913360258909015\n",
      "0.999577933282465\n",
      "0.9907371983788278\n",
      "0.993218916146073\n",
      "1.0\n",
      "1.0105593917871205\n",
      "1.000932808443433\n",
      "1.0143653914967052\n",
      "0.08857291410732204\n",
      "0.08732743045241928\n",
      "0.08931752478377587\n",
      "0.17432967271809918\n",
      "0.08977115776139116\n",
      "Check garbage collection 1180\n"
     ]
    },
    {
     "name": "stderr",
     "output_type": "stream",
     "text": [
      "INFO:astropy:using the unit adu passed to the FITS reader instead of the unit adu in the FITS file.\n",
      "WARNING: FITSFixedWarning: 'obsfix' made the change 'Set OBSGEO-X to -4134713.329 from OBSGEO-[LBH].\n",
      "Set OBSGEO-Y to  2879792.379 from OBSGEO-[LBH].\n",
      "Set OBSGEO-Z to -3897419.410 from OBSGEO-[LBH]'. [astropy.wcs.wcs]\n",
      "WARNING:astropy:FITSFixedWarning: 'obsfix' made the change 'Set OBSGEO-X to -4134713.329 from OBSGEO-[LBH].\n",
      "Set OBSGEO-Y to  2879792.379 from OBSGEO-[LBH].\n",
      "Set OBSGEO-Z to -3897419.410 from OBSGEO-[LBH]'.\n"
     ]
    },
    {
     "name": "stdout",
     "output_type": "stream",
     "text": [
      "sproc_NGC 2323_B_10.000secs_00002235.fit\n",
      "sproc_NGC 2323_B_10.000secs_00002236.fit\n",
      "sproc_NGC 2323_B_10.000secs_00002237.fit\n",
      "sproc_NGC 2323_B_10.000secs_00002238.fit\n",
      "sproc_NGC 2323_B_10.000secs_00002239.fit\n",
      "sproc_NGC 2323_B_10.000secs_00002240.fit\n",
      "sproc_NGC 2323_B_10.000secs_00002241.fit\n",
      "sproc_NGC 2323_B_10.000secs_00002242.fit\n",
      "sproc_NGC 2323_B_10.000secs_00002243.fit\n",
      "sproc_NGC 2323_B_10.000secs_00002244.fit\n",
      "sproc_NGC 2323_B_120.000secs_00002265.fit\n",
      "sproc_NGC 2323_B_120.000secs_00002266.fit\n",
      "sproc_NGC 2323_B_120.000secs_00002267.fit\n",
      "sproc_NGC 2323_B_120.000secs_00002268.fit\n",
      "sproc_NGC 2323_B_120.000secs_00002269.fit\n",
      "INFO: using the unit adu passed to the FITS reader instead of the unit adu in the FITS file. [astropy.nddata.ccddata]\n"
     ]
    },
    {
     "name": "stderr",
     "output_type": "stream",
     "text": [
      "INFO:astropy:using the unit adu passed to the FITS reader instead of the unit adu in the FITS file.\n",
      "INFO:astropy:using the unit adu passed to the FITS reader instead of the unit adu in the FITS file.\n",
      "INFO:astropy:using the unit adu passed to the FITS reader instead of the unit adu in the FITS file.\n",
      "INFO:astropy:using the unit adu passed to the FITS reader instead of the unit adu in the FITS file.\n",
      "INFO:astropy:using the unit adu passed to the FITS reader instead of the unit adu in the FITS file.\n",
      "INFO:astropy:using the unit adu passed to the FITS reader instead of the unit adu in the FITS file.\n",
      "INFO:astropy:using the unit adu passed to the FITS reader instead of the unit adu in the FITS file.\n",
      "INFO:astropy:using the unit adu passed to the FITS reader instead of the unit adu in the FITS file.\n"
     ]
    },
    {
     "name": "stdout",
     "output_type": "stream",
     "text": [
      "INFO: using the unit adu passed to the FITS reader instead of the unit adu in the FITS file. [astropy.nddata.ccddata]\n",
      "INFO: using the unit adu passed to the FITS reader instead of the unit adu in the FITS file. [astropy.nddata.ccddata]\n",
      "INFO: using the unit adu passed to the FITS reader instead of the unit adu in the FITS file. [astropy.nddata.ccddata]\n",
      "INFO: using the unit adu passed to the FITS reader instead of the unit adu in the FITS file. [astropy.nddata.ccddata]\n",
      "INFO: using the unit adu passed to the FITS reader instead of the unit adu in the FITS file. [astropy.nddata.ccddata]\n",
      "INFO: using the unit adu passed to the FITS reader instead of the unit adu in the FITS file. [astropy.nddata.ccddata]\n",
      "INFO: using the unit adu passed to the FITS reader instead of the unit adu in the FITS file. [astropy.nddata.ccddata]\n",
      "INFO: using the unit adu passed to the FITS reader instead of the unit adu in the FITS file. [astropy.nddata.ccddata]\n"
     ]
    },
    {
     "name": "stderr",
     "output_type": "stream",
     "text": [
      "INFO:astropy:using the unit adu passed to the FITS reader instead of the unit adu in the FITS file.\n",
      "INFO:astropy:using the unit adu passed to the FITS reader instead of the unit adu in the FITS file.\n",
      "INFO:astropy:using the unit adu passed to the FITS reader instead of the unit adu in the FITS file.\n",
      "INFO:astropy:using the unit adu passed to the FITS reader instead of the unit adu in the FITS file.\n",
      "INFO:astropy:using the unit adu passed to the FITS reader instead of the unit adu in the FITS file.\n",
      "INFO:astropy:using the unit adu passed to the FITS reader instead of the unit adu in the FITS file.\n"
     ]
    },
    {
     "name": "stdout",
     "output_type": "stream",
     "text": [
      "INFO: using the unit adu passed to the FITS reader instead of the unit adu in the FITS file. [astropy.nddata.ccddata]\n",
      "INFO: using the unit adu passed to the FITS reader instead of the unit adu in the FITS file. [astropy.nddata.ccddata]\n",
      "INFO: using the unit adu passed to the FITS reader instead of the unit adu in the FITS file. [astropy.nddata.ccddata]\n",
      "INFO: using the unit adu passed to the FITS reader instead of the unit adu in the FITS file. [astropy.nddata.ccddata]\n",
      "INFO: using the unit adu passed to the FITS reader instead of the unit adu in the FITS file. [astropy.nddata.ccddata]\n",
      "INFO: using the unit adu passed to the FITS reader instead of the unit adu in the FITS file. [astropy.nddata.ccddata]\n",
      "[[ -23.198502     71.968124     31.17186    ...   -7.688637\n",
      "   -52.839737    -63.86715   ]\n",
      " [  51.57469      73.91324      23.829239   ...  -23.64405\n",
      "    85.87152      -0.40470886]\n",
      " [ 103.69229      77.77243     -67.56079    ...  -57.873997\n",
      "    48.58963     -38.04718   ]\n",
      " ...\n",
      " [  24.506561   -106.351425     31.277588   ...  147.57068\n",
      "   -42.519844    -36.002945  ]\n",
      " [  16.892822    -20.236671    -33.14955    ...   18.025177\n",
      "    39.87494     -73.168274  ]\n",
      " [  20.813522    -42.903557    -16.219887   ...   61.09285\n",
      "     0.689621    -50.186974  ]]\n",
      "\n",
      "\n",
      " id xcenter ycenter    aperture_sum  \n",
      "      pix     pix          adu       \n",
      "--- ------- ------- -----------------\n",
      "  1   794.0   167.0 681862.3660668184\n",
      "  2  1526.0  1148.0 49641.48379105173\n",
      "  3    83.0   947.0 193470.2319350125\n",
      "0  id xcenter ycenter    aperture_sum  \n",
      "      pix     pix          adu       \n",
      "--- ------- ------- -----------------\n",
      "  1   794.0   167.0 681862.3660668184\n",
      "  2  1526.0  1148.0 49641.48379105173\n",
      "  3    83.0   947.0 193470.2319350125\n",
      "1  id xcenter ycenter    aperture_sum   \n",
      "      pix     pix          adu        \n",
      "--- ------- ------- ------------------\n",
      "  1   794.0   167.0   678222.091186815\n",
      "  2  1526.0  1148.0  52073.31584184317\n",
      "  3    83.0   947.0 196010.39805511863\n",
      "2  id xcenter ycenter    aperture_sum   \n",
      "      pix     pix          adu        \n",
      "--- ------- ------- ------------------\n",
      "  1   794.0   167.0  679037.4519491974\n",
      "  2  1526.0  1148.0   49814.2206203245\n",
      "  3    83.0   947.0 197124.93466457922\n",
      "3  id xcenter ycenter    aperture_sum  \n",
      "      pix     pix          adu       \n",
      "--- ------- ------- -----------------\n",
      "  1   794.0   167.0 691119.6482623199\n",
      "  2  1526.0  1148.0 53375.00770805953\n",
      "  3    83.0   947.0 197799.5255929712\n",
      "4  id xcenter ycenter    aperture_sum   \n",
      "      pix     pix          adu        \n",
      "--- ------- ------- ------------------\n",
      "  1   794.0   167.0  685892.9780759485\n",
      "  2  1526.0  1148.0  52285.65848886322\n",
      "  3    83.0   947.0 198338.73899625373\n",
      "5  id xcenter ycenter    aperture_sum   \n",
      "      pix     pix          adu        \n",
      "--- ------- ------- ------------------\n",
      "  1   794.0   167.0  686051.8220286631\n",
      "  2  1526.0  1148.0   51403.7658734856\n",
      "  3    83.0   947.0 198685.53256327298\n",
      "6  id xcenter ycenter    aperture_sum   \n",
      "      pix     pix          adu        \n",
      "--- ------- ------- ------------------\n",
      "  1   794.0   167.0   685999.271414203\n",
      "  2  1526.0  1148.0 50980.596555787844\n",
      "  3    83.0   947.0  199667.2479831986\n",
      "7  id xcenter ycenter    aperture_sum   \n",
      "      pix     pix          adu        \n",
      "--- ------- ------- ------------------\n",
      "  1   794.0   167.0  686782.7573053243\n",
      "  2  1526.0  1148.0 50595.376617840404\n",
      "  3    83.0   947.0 196031.09426051745\n",
      "8  id xcenter ycenter    aperture_sum  \n",
      "      pix     pix          adu       \n",
      "--- ------- ------- -----------------\n",
      "  1   794.0   167.0 682656.2135792165\n",
      "  2  1526.0  1148.0  52250.8123565894\n",
      "  3    83.0   947.0 194109.3585597141\n",
      "9  id xcenter ycenter    aperture_sum   \n",
      "      pix     pix          adu        \n",
      "--- ------- ------- ------------------\n",
      "  1   794.0   167.0  690566.4918341275\n",
      "  2  1526.0  1148.0 53496.775797388684\n",
      "  3    83.0   947.0 199974.49593815158\n",
      "10  id xcenter ycenter    aperture_sum   \n",
      "      pix     pix          adu        \n",
      "--- ------- ------- ------------------\n",
      "  1   794.0   167.0  6032795.541727002\n",
      "  2  1526.0  1148.0   655976.221622254\n",
      "  3    83.0   947.0 2438690.0091332006\n",
      "11  id xcenter ycenter    aperture_sum  \n",
      "      pix     pix          adu       \n",
      "--- ------- ------- -----------------\n",
      "  1   794.0   167.0   5787474.4877651\n",
      "  2  1526.0  1148.0 653231.5764314823\n",
      "  3    83.0   947.0 2412955.296369178\n",
      "12  id xcenter ycenter    aperture_sum   \n",
      "      pix     pix          adu        \n",
      "--- ------- ------- ------------------\n",
      "  1   794.0   167.0  5772684.078744982\n",
      "  2  1526.0  1148.0  655131.9226745117\n",
      "  3    83.0   947.0 2403743.7184509505\n",
      "13  id xcenter ycenter    aperture_sum   \n",
      "      pix     pix          adu        \n",
      "--- ------- ------- ------------------\n",
      "  1   794.0   167.0 5820396.2204792285\n",
      "  2  1526.0  1148.0  658693.2182374095\n",
      "  3    83.0   947.0  2403965.993811715\n",
      "14  id xcenter ycenter    aperture_sum   \n",
      "      pix     pix          adu        \n",
      "--- ------- ------- ------------------\n",
      "  1   794.0   167.0  5938297.570371897\n",
      "  2  1526.0  1148.0  656842.3899405448\n",
      "  3    83.0   947.0 2421374.5742076314\n"
     ]
    },
    {
     "name": "stderr",
     "output_type": "stream",
     "text": [
      "WARNING: FITSFixedWarning: 'obsfix' made the change 'Set OBSGEO-X to -4134713.329 from OBSGEO-[LBH].\n",
      "Set OBSGEO-Y to  2879792.379 from OBSGEO-[LBH].\n",
      "Set OBSGEO-Z to -3897419.410 from OBSGEO-[LBH]'. [astropy.wcs.wcs]\n",
      "WARNING:astropy:FITSFixedWarning: 'obsfix' made the change 'Set OBSGEO-X to -4134713.329 from OBSGEO-[LBH].\n",
      "Set OBSGEO-Y to  2879792.379 from OBSGEO-[LBH].\n",
      "Set OBSGEO-Z to -3897419.410 from OBSGEO-[LBH]'.\n"
     ]
    },
    {
     "name": "stdout",
     "output_type": "stream",
     "text": [
      "1.0269756796628529\n",
      "1.0114670110697497\n",
      "1.0128969646734205\n",
      "0.9925911861122875\n",
      "1.000154970733995\n",
      "0.9999234013921795\n",
      "1.0\n",
      "1.0076137379282124\n",
      "1.0048971323610438\n",
      "0.9933862698611483\n",
      "0.08187479640110866\n",
      "0.08274800958129722\n",
      "0.08306511482508235\n",
      "0.08305743446337498\n",
      "0.08246028933732302\n",
      "Check garbage collection 144\n",
      "sproc_NGC 2323_R_10.000secs_00002255.fit\n",
      "sproc_NGC 2323_R_10.000secs_00002256.fit\n",
      "sproc_NGC 2323_R_10.000secs_00002257.fit\n",
      "sproc_NGC 2323_R_10.000secs_00002258.fit\n",
      "sproc_NGC 2323_R_10.000secs_00002259.fit\n",
      "sproc_NGC 2323_R_10.000secs_00002260.fit\n",
      "sproc_NGC 2323_R_10.000secs_00002261.fit\n",
      "sproc_NGC 2323_R_10.000secs_00002262.fit\n",
      "sproc_NGC 2323_R_10.000secs_00002263.fit\n",
      "sproc_NGC 2323_R_10.000secs_00002264.fit\n",
      "sproc_NGC 2323_R_60.000secs_00002284.fit\n",
      "sproc_NGC 2323_R_60.000secs_00002285.fit\n",
      "sproc_NGC 2323_R_60.000secs_00002286.fit\n",
      "sproc_NGC 2323_R_60.000secs_00002287.fit\n",
      "sproc_NGC 2323_R_60.000secs_00002289.fit\n",
      "sproc_NGC 2323_R_60.000secs_00002296.fit\n",
      "sproc_NGC 2323_R_60.000secs_00002297.fit\n",
      "sproc_NGC 2323_R_60.000secs_00002298.fit\n",
      "sproc_NGC 2323_R_60.000secs_00002299.fit\n",
      "sproc_NGC 2323_R_60.000secs_00002300.fit\n",
      "sproc_NGC 2323_R_60.000secs_00002301.fit\n"
     ]
    },
    {
     "name": "stderr",
     "output_type": "stream",
     "text": [
      "INFO:astropy:using the unit adu passed to the FITS reader instead of the unit adu in the FITS file.\n",
      "WARNING: FITSFixedWarning: 'obsfix' made the change 'Set OBSGEO-X to -4134713.329 from OBSGEO-[LBH].\n",
      "Set OBSGEO-Y to  2879792.379 from OBSGEO-[LBH].\n",
      "Set OBSGEO-Z to -3897419.410 from OBSGEO-[LBH]'. [astropy.wcs.wcs]\n",
      "WARNING:astropy:FITSFixedWarning: 'obsfix' made the change 'Set OBSGEO-X to -4134713.329 from OBSGEO-[LBH].\n",
      "Set OBSGEO-Y to  2879792.379 from OBSGEO-[LBH].\n",
      "Set OBSGEO-Z to -3897419.410 from OBSGEO-[LBH]'.\n",
      "INFO:astropy:using the unit adu passed to the FITS reader instead of the unit adu in the FITS file.\n",
      "INFO:astropy:using the unit adu passed to the FITS reader instead of the unit adu in the FITS file.\n",
      "INFO:astropy:using the unit adu passed to the FITS reader instead of the unit adu in the FITS file.\n",
      "INFO:astropy:using the unit adu passed to the FITS reader instead of the unit adu in the FITS file.\n",
      "INFO:astropy:using the unit adu passed to the FITS reader instead of the unit adu in the FITS file.\n",
      "INFO:astropy:using the unit adu passed to the FITS reader instead of the unit adu in the FITS file.\n",
      "INFO:astropy:using the unit adu passed to the FITS reader instead of the unit adu in the FITS file.\n"
     ]
    },
    {
     "name": "stdout",
     "output_type": "stream",
     "text": [
      "INFO: using the unit adu passed to the FITS reader instead of the unit adu in the FITS file. [astropy.nddata.ccddata]\n",
      "INFO: using the unit adu passed to the FITS reader instead of the unit adu in the FITS file. [astropy.nddata.ccddata]\n",
      "INFO: using the unit adu passed to the FITS reader instead of the unit adu in the FITS file. [astropy.nddata.ccddata]\n",
      "INFO: using the unit adu passed to the FITS reader instead of the unit adu in the FITS file. [astropy.nddata.ccddata]\n",
      "INFO: using the unit adu passed to the FITS reader instead of the unit adu in the FITS file. [astropy.nddata.ccddata]\n",
      "INFO: using the unit adu passed to the FITS reader instead of the unit adu in the FITS file. [astropy.nddata.ccddata]\n",
      "INFO: using the unit adu passed to the FITS reader instead of the unit adu in the FITS file. [astropy.nddata.ccddata]\n",
      "INFO: using the unit adu passed to the FITS reader instead of the unit adu in the FITS file. [astropy.nddata.ccddata]\n"
     ]
    },
    {
     "name": "stderr",
     "output_type": "stream",
     "text": [
      "INFO:astropy:using the unit adu passed to the FITS reader instead of the unit adu in the FITS file.\n",
      "INFO:astropy:using the unit adu passed to the FITS reader instead of the unit adu in the FITS file.\n",
      "INFO:astropy:using the unit adu passed to the FITS reader instead of the unit adu in the FITS file.\n",
      "INFO:astropy:using the unit adu passed to the FITS reader instead of the unit adu in the FITS file.\n",
      "INFO:astropy:using the unit adu passed to the FITS reader instead of the unit adu in the FITS file.\n",
      "INFO:astropy:using the unit adu passed to the FITS reader instead of the unit adu in the FITS file.\n",
      "INFO:astropy:using the unit adu passed to the FITS reader instead of the unit adu in the FITS file.\n",
      "INFO:astropy:using the unit adu passed to the FITS reader instead of the unit adu in the FITS file.\n"
     ]
    },
    {
     "name": "stdout",
     "output_type": "stream",
     "text": [
      "INFO: using the unit adu passed to the FITS reader instead of the unit adu in the FITS file. [astropy.nddata.ccddata]\n",
      "INFO: using the unit adu passed to the FITS reader instead of the unit adu in the FITS file. [astropy.nddata.ccddata]\n",
      "INFO: using the unit adu passed to the FITS reader instead of the unit adu in the FITS file. [astropy.nddata.ccddata]\n",
      "INFO: using the unit adu passed to the FITS reader instead of the unit adu in the FITS file. [astropy.nddata.ccddata]\n",
      "INFO: using the unit adu passed to the FITS reader instead of the unit adu in the FITS file. [astropy.nddata.ccddata]\n",
      "INFO: using the unit adu passed to the FITS reader instead of the unit adu in the FITS file. [astropy.nddata.ccddata]\n",
      "INFO: using the unit adu passed to the FITS reader instead of the unit adu in the FITS file. [astropy.nddata.ccddata]\n",
      "INFO: using the unit adu passed to the FITS reader instead of the unit adu in the FITS file. [astropy.nddata.ccddata]\n"
     ]
    },
    {
     "name": "stderr",
     "output_type": "stream",
     "text": [
      "INFO:astropy:using the unit adu passed to the FITS reader instead of the unit adu in the FITS file.\n",
      "INFO:astropy:using the unit adu passed to the FITS reader instead of the unit adu in the FITS file.\n",
      "INFO:astropy:using the unit adu passed to the FITS reader instead of the unit adu in the FITS file.\n",
      "INFO:astropy:using the unit adu passed to the FITS reader instead of the unit adu in the FITS file.\n",
      "INFO:astropy:using the unit adu passed to the FITS reader instead of the unit adu in the FITS file.\n"
     ]
    },
    {
     "name": "stdout",
     "output_type": "stream",
     "text": [
      "INFO: using the unit adu passed to the FITS reader instead of the unit adu in the FITS file. [astropy.nddata.ccddata]\n",
      "INFO: using the unit adu passed to the FITS reader instead of the unit adu in the FITS file. [astropy.nddata.ccddata]\n",
      "INFO: using the unit adu passed to the FITS reader instead of the unit adu in the FITS file. [astropy.nddata.ccddata]\n",
      "INFO: using the unit adu passed to the FITS reader instead of the unit adu in the FITS file. [astropy.nddata.ccddata]\n",
      "INFO: using the unit adu passed to the FITS reader instead of the unit adu in the FITS file. [astropy.nddata.ccddata]\n",
      "[[ 28.351334   87.81384    61.067596  ...  12.912567  -33.605865\n",
      "  -45.949295 ]\n",
      " [ 52.06482   -28.47467    76.25806   ... -17.903625   -7.1490326\n",
      "   38.222595 ]\n",
      " [ 40.87787    24.965118  -12.1132965 ...  12.395294   30.2305\n",
      "    3.5681   ]\n",
      " ...\n",
      " [-30.876862   69.41641   -34.294373  ... -14.236588  -48.16783\n",
      "   -6.710861 ]\n",
      " [-63.471848  103.339294  -26.714645  ... -30.556808   49.10553\n",
      "  -60.307556 ]\n",
      " [-20.72911   -97.41172    68.606445  ... -21.941956  -11.34581\n",
      "    5.510391 ]]\n",
      "\n",
      "\n",
      " id xcenter ycenter    aperture_sum   \n",
      "      pix     pix          adu        \n",
      "--- ------- ------- ------------------\n",
      "  1   794.0   167.0   4629032.25681092\n",
      "  2  1526.0  1148.0  328314.5041038516\n",
      "  3    83.0   947.0 329556.93644062727\n",
      "0  id xcenter ycenter    aperture_sum   \n",
      "      pix     pix          adu        \n",
      "--- ------- ------- ------------------\n",
      "  1   794.0   167.0   4629032.25681092\n",
      "  2  1526.0  1148.0  328314.5041038516\n",
      "  3    83.0   947.0 329556.93644062727\n",
      "1  id xcenter ycenter    aperture_sum  \n",
      "      pix     pix          adu       \n",
      "--- ------- ------- -----------------\n",
      "  1   794.0   167.0 4752434.026829803\n",
      "  2  1526.0  1148.0 330736.9237329797\n",
      "  3    83.0   947.0 339314.9252522019\n",
      "2  id xcenter ycenter    aperture_sum   \n",
      "      pix     pix          adu        \n",
      "--- ------- ------- ------------------\n",
      "  1   794.0   167.0 4904268.5218466725\n",
      "  2  1526.0  1148.0 330175.49546885403\n",
      "  3    83.0   947.0 332508.98334090685\n",
      "3  id xcenter ycenter    aperture_sum  \n",
      "      pix     pix          adu       \n",
      "--- ------- ------- -----------------\n",
      "  1   794.0   167.0 4888041.760153834\n",
      "  2  1526.0  1148.0  330050.812652532\n",
      "  3    83.0   947.0 333648.1959713461\n",
      "4  id xcenter ycenter    aperture_sum   \n",
      "      pix     pix          adu        \n",
      "--- ------- ------- ------------------\n",
      "  1   794.0   167.0  4457081.842887917\n",
      "  2  1526.0  1148.0 329445.07657882164\n",
      "  3    83.0   947.0  332873.3863055734\n",
      "5  id xcenter ycenter    aperture_sum  \n",
      "      pix     pix          adu       \n",
      "--- ------- ------- -----------------\n",
      "  1   794.0   167.0  4755542.30568952\n",
      "  2  1526.0  1148.0 335069.4469082453\n",
      "  3    83.0   947.0 334049.1133756874\n",
      "6  id xcenter ycenter    aperture_sum   \n",
      "      pix     pix          adu        \n",
      "--- ------- ------- ------------------\n",
      "  1   794.0   167.0  4680748.322683701\n",
      "  2  1526.0  1148.0 330130.63278353395\n",
      "  3    83.0   947.0  331911.1999994526\n",
      "7  id xcenter ycenter    aperture_sum  \n",
      "      pix     pix          adu       \n",
      "--- ------- ------- -----------------\n",
      "  1   794.0   167.0 4734186.954586141\n",
      "  2  1526.0  1148.0 330299.0675220026\n",
      "  3    83.0   947.0 331407.9848499091\n",
      "8  id xcenter ycenter    aperture_sum   \n",
      "      pix     pix          adu        \n",
      "--- ------- ------- ------------------\n",
      "  1   794.0   167.0  5083719.110588026\n",
      "  2  1526.0  1148.0  334234.7845187207\n",
      "  3    83.0   947.0 333512.79880952154\n",
      "9  id xcenter ycenter    aperture_sum   \n",
      "      pix     pix          adu        \n",
      "--- ------- ------- ------------------\n",
      "  1   794.0   167.0  5092539.883308066\n",
      "  2  1526.0  1148.0  333323.2164898943\n",
      "  3    83.0   947.0 332062.87168406666\n",
      "10  id xcenter ycenter    aperture_sum   \n",
      "      pix     pix          adu        \n",
      "--- ------- ------- ------------------\n",
      "  1   794.0   167.0 11458619.486246651\n",
      "  2  1526.0  1148.0 1255013.3927928386\n",
      "  3    83.0   947.0 1201337.6720022492\n",
      "11  id xcenter ycenter    aperture_sum   \n",
      "      pix     pix          adu        \n",
      "--- ------- ------- ------------------\n",
      "  1   794.0   167.0 11099138.685468437\n",
      "  2  1526.0  1148.0 1812512.2716735543\n",
      "  3    83.0   947.0 1771405.6974286898\n",
      "12  id xcenter ycenter    aperture_sum   \n",
      "      pix     pix          adu        \n",
      "--- ------- ------- ------------------\n",
      "  1   794.0   167.0 11823350.659889115\n",
      "  2  1526.0  1148.0  1765513.488576271\n",
      "  3    83.0   947.0 1740634.2029408682\n",
      "13  id xcenter ycenter    aperture_sum  \n",
      "      pix     pix          adu       \n",
      "--- ------- ------- -----------------\n",
      "  1   794.0   167.0 6721251.557734459\n",
      "  2  1526.0  1148.0 616867.2227080555\n",
      "  3    83.0   947.0 543179.9285521328\n",
      "14  id xcenter ycenter    aperture_sum  \n",
      "      pix     pix          adu       \n",
      "--- ------- ------- -----------------\n",
      "  1   794.0   167.0 7657754.355238618\n",
      "  2  1526.0  1148.0 690555.2796656801\n",
      "  3    83.0   947.0 543804.4473471494\n",
      "15  id xcenter ycenter    aperture_sum  \n",
      "      pix     pix          adu       \n",
      "--- ------- ------- -----------------\n",
      "  1   794.0   167.0 6031262.633335285\n",
      "  2  1526.0  1148.0 534537.3029246352\n",
      "  3    83.0   947.0 406763.5255120095\n",
      "16  id xcenter ycenter    aperture_sum  \n",
      "      pix     pix          adu       \n",
      "--- ------- ------- -----------------\n",
      "  1   794.0   167.0 4946200.431953496\n",
      "  2  1526.0  1148.0 481345.4916684497\n",
      "  3    83.0   947.0 327840.3196280404\n",
      "17  id xcenter ycenter    aperture_sum   \n",
      "      pix     pix          adu        \n",
      "--- ------- ------- ------------------\n",
      "  1   794.0   167.0 1803668.8554045672\n",
      "  2  1526.0  1148.0 207811.93108529638\n",
      "  3    83.0   947.0 116911.55131638427\n",
      "18  id xcenter ycenter    aperture_sum   \n",
      "      pix     pix          adu        \n",
      "--- ------- ------- ------------------\n",
      "  1   794.0   167.0 11430374.070602393\n",
      "  2  1526.0  1148.0 1958130.9064176045\n",
      "  3    83.0   947.0 1948637.7721879478\n",
      "19  id xcenter ycenter    aperture_sum   \n",
      "      pix     pix          adu        \n",
      "--- ------- ------- ------------------\n",
      "  1   794.0   167.0 10936463.455585435\n",
      "  2  1526.0  1148.0 1877937.3102614016\n",
      "  3    83.0   947.0  1876497.764358177\n",
      "20  id xcenter ycenter    aperture_sum  \n",
      "      pix     pix          adu       \n",
      "--- ------- ------- -----------------\n",
      "  1   794.0   167.0 5488437.377750693\n",
      "  2  1526.0  1148.0 538081.0268887549\n",
      "  3    83.0   947.0 533034.4007920389\n"
     ]
    },
    {
     "name": "stderr",
     "output_type": "stream",
     "text": [
      "WARNING: FITSFixedWarning: 'obsfix' made the change 'Set OBSGEO-X to -4134713.329 from OBSGEO-[LBH].\n",
      "Set OBSGEO-Y to  2879792.379 from OBSGEO-[LBH].\n",
      "Set OBSGEO-Z to -3897419.410 from OBSGEO-[LBH]'. [astropy.wcs.wcs]\n",
      "WARNING:astropy:FITSFixedWarning: 'obsfix' made the change 'Set OBSGEO-X to -4134713.329 from OBSGEO-[LBH].\n",
      "Set OBSGEO-Y to  2879792.379 from OBSGEO-[LBH].\n",
      "Set OBSGEO-Z to -3897419.410 from OBSGEO-[LBH]'.\n"
     ]
    },
    {
     "name": "stdout",
     "output_type": "stream",
     "text": [
      "1.0071437232796632\n",
      "0.9849160022545497\n",
      "0.9982022039361224\n",
      "0.9947939296754278\n",
      "1.0020809423283286\n",
      "0.9852603268657204\n",
      "1.0\n",
      "0.9994900538480708\n",
      "0.9877207522218356\n",
      "0.9904219581822703\n",
      "0.2762846847599991\n",
      "0.1873716452878317\n",
      "0.19068406184290526\n",
      "0.6110520336864708\n",
      "0.610350286060772\n",
      "0.7760809978349841\n",
      "0.9463321163544206\n",
      "2.5951262110326776\n",
      "0.17032986055011126\n",
      "0.1768780151533924\n",
      "0.6226825126225697\n",
      "Check garbage collection 192\n"
     ]
    }
   ],
   "source": [
    "# Creating the scaled images\n",
    "\n",
    "apeturephotometry('V')\n",
    "apeturephotometry('B')\n",
    "apeturephotometry('R')"
   ]
  }
 ],
 "metadata": {
  "kernelspec": {
   "display_name": "Python 3 (ipykernel)",
   "language": "python",
   "name": "python3"
  },
  "language_info": {
   "codemirror_mode": {
    "name": "ipython",
    "version": 3
   },
   "file_extension": ".py",
   "mimetype": "text/x-python",
   "name": "python",
   "nbconvert_exporter": "python",
   "pygments_lexer": "ipython3",
   "version": "3.9.7"
  }
 },
 "nbformat": 4,
 "nbformat_minor": 5
}
