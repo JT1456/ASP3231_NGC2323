{
 "cells": [
  {
   "cell_type": "code",
   "execution_count": 1,
   "id": "635e5cbd",
   "metadata": {},
   "outputs": [
    {
     "name": "stderr",
     "output_type": "stream",
     "text": [
      "C:\\Users\\Msi Raider\\AppData\\Local\\Temp\\ipykernel_13172\\1502218167.py:10: DeprecationWarning: `photutils.centroid_com` is a deprecated alias for `photutils.centroids.centroid_com`. Instead, please use `from photutils.centroids import centroid_com` to silence this warning.\n",
      "  from photutils import centroid_com, centroid_1dg, centroid_2dg\n",
      "C:\\Users\\Msi Raider\\AppData\\Local\\Temp\\ipykernel_13172\\1502218167.py:10: DeprecationWarning: `photutils.centroid_1dg` is a deprecated alias for `photutils.centroids.centroid_1dg`. Instead, please use `from photutils.centroids import centroid_1dg` to silence this warning.\n",
      "  from photutils import centroid_com, centroid_1dg, centroid_2dg\n",
      "C:\\Users\\Msi Raider\\AppData\\Local\\Temp\\ipykernel_13172\\1502218167.py:10: DeprecationWarning: `photutils.centroid_2dg` is a deprecated alias for `photutils.centroids.centroid_2dg`. Instead, please use `from photutils.centroids import centroid_2dg` to silence this warning.\n",
      "  from photutils import centroid_com, centroid_1dg, centroid_2dg\n"
     ]
    }
   ],
   "source": [
    "import numpy as np\n",
    "import pandas as pd\n",
    "import astropy\n",
    "import ccdproc\n",
    "from ccdproc import CCDData, Combiner\n",
    "from astropy import units as u\n",
    "from astropy.visualization import SqrtStretch\n",
    "import matplotlib.pyplot as plt \n",
    "from matplotlib.colors import LogNorm\n",
    "from photutils import centroid_com, centroid_1dg, centroid_2dg\n",
    "from photutils import CircularAperture\n",
    "from photutils import aperture_photometry\n",
    "from photutils import Background2D\n",
    "from photutils import MedianBackground\n",
    "from scipy.ndimage import shift\n",
    "import gc                                                           \n",
    "gc.enable()"
   ]
  },
  {
   "cell_type": "markdown",
   "id": "b491110b",
   "metadata": {},
   "source": [
    "First we load our images into the images variable using the ImageFileCollection function, abd we print which files have been loaded in to manually check the function has performed as expected"
   ]
  },
  {
   "cell_type": "code",
   "execution_count": 2,
   "id": "14f298a8",
   "metadata": {},
   "outputs": [
    {
     "name": "stdout",
     "output_type": "stream",
     "text": [
      "['__class__', '__delattr__', '__dict__', '__dir__', '__doc__', '__eq__', '__format__', '__ge__', '__getattribute__', '__gt__', '__hash__', '__init__', '__init_subclass__', '__le__', '__lt__', '__module__', '__ne__', '__new__', '__reduce__', '__reduce_ex__', '__repr__', '__setattr__', '__sizeof__', '__str__', '__subclasshook__', '__weakref__', '_all_keywords', '_dict_from_fits_header', '_ext', '_filenames', '_files', '_find_fits_by_reading', '_find_keywords_by_values', '_fits_files_in_directory', '_fits_summary', '_generator', '_get_files', '_glob_exclude', '_glob_include', '_location', '_paths', '_set_column_name_case_to_match_keywords', '_summary', 'ccds', 'data', 'ext', 'files', 'files_filtered', 'filter', 'glob_exclude', 'glob_include', 'hdus', 'headers', 'keywords', 'location', 'refresh', 'sort', 'summary', 'values']\n",
      "['NGC 2323_B_10.000secs_00002235.fit', 'NGC 2323_B_10.000secs_00002236.fit', 'NGC 2323_B_10.000secs_00002237.fit', 'NGC 2323_B_10.000secs_00002238.fit', 'NGC 2323_B_10.000secs_00002239.fit', 'NGC 2323_B_10.000secs_00002240.fit', 'NGC 2323_B_10.000secs_00002241.fit', 'NGC 2323_B_10.000secs_00002242.fit', 'NGC 2323_B_10.000secs_00002243.fit', 'NGC 2323_B_10.000secs_00002244.fit', 'NGC 2323_B_120.000secs_00002265.fit', 'NGC 2323_B_120.000secs_00002266.fit', 'NGC 2323_B_120.000secs_00002267.fit', 'NGC 2323_B_120.000secs_00002268.fit', 'NGC 2323_B_120.000secs_00002269.fit', 'NGC 2323_R_10.000secs_00002255.fit', 'NGC 2323_R_10.000secs_00002256.fit', 'NGC 2323_R_10.000secs_00002257.fit', 'NGC 2323_R_10.000secs_00002258.fit', 'NGC 2323_R_10.000secs_00002259.fit', 'NGC 2323_R_10.000secs_00002260.fit', 'NGC 2323_R_10.000secs_00002261.fit', 'NGC 2323_R_10.000secs_00002262.fit', 'NGC 2323_R_10.000secs_00002263.fit', 'NGC 2323_R_10.000secs_00002264.fit', 'NGC 2323_R_60.000secs_00002284.fit', 'NGC 2323_R_60.000secs_00002285.fit', 'NGC 2323_R_60.000secs_00002286.fit', 'NGC 2323_R_60.000secs_00002287.fit', 'NGC 2323_R_60.000secs_00002289.fit', 'NGC 2323_R_60.000secs_00002296.fit', 'NGC 2323_R_60.000secs_00002297.fit', 'NGC 2323_R_60.000secs_00002298.fit', 'NGC 2323_R_60.000secs_00002299.fit', 'NGC 2323_R_60.000secs_00002300.fit', 'NGC 2323_R_60.000secs_00002301.fit', 'NGC 2323_V_10.000secs_00002245.fit', 'NGC 2323_V_10.000secs_00002246.fit', 'NGC 2323_V_10.000secs_00002247.fit', 'NGC 2323_V_10.000secs_00002248.fit', 'NGC 2323_V_10.000secs_00002249.fit', 'NGC 2323_V_10.000secs_00002250.fit', 'NGC 2323_V_10.000secs_00002251.fit', 'NGC 2323_V_10.000secs_00002252.fit', 'NGC 2323_V_10.000secs_00002253.fit', 'NGC 2323_V_10.000secs_00002254.fit', 'NGC 2323_V_120.000secs_00002270.fit', 'NGC 2323_V_120.000secs_00002271.fit', 'NGC 2323_V_120.000secs_00002272.fit', 'NGC 2323_V_120.000secs_00002273.fit', 'NGC 2323_V_120.000secs_00002274.fit']\n"
     ]
    }
   ],
   "source": [
    "images = ccdproc.ImageFileCollection(\".\") #loading in image files\n",
    "print(dir(images))\n",
    "print(images.files) #Printing the loaded files"
   ]
  },
  {
   "cell_type": "markdown",
   "id": "01fa1487",
   "metadata": {},
   "source": [
    "Each band is then loaded into their respective variables and each images name is printed for manually checking that the collections only contain their respective bands."
   ]
  },
  {
   "cell_type": "code",
   "execution_count": 3,
   "id": "d5fda9ed",
   "metadata": {
    "scrolled": true
   },
   "outputs": [
    {
     "name": "stdout",
     "output_type": "stream",
     "text": [
      "NGC 2323_V_10.000secs_00002245.fit\n",
      "NGC 2323_V_10.000secs_00002246.fit\n",
      "NGC 2323_V_10.000secs_00002247.fit\n",
      "NGC 2323_V_10.000secs_00002248.fit\n",
      "NGC 2323_V_10.000secs_00002249.fit\n",
      "NGC 2323_V_10.000secs_00002250.fit\n",
      "NGC 2323_V_10.000secs_00002251.fit\n",
      "NGC 2323_V_10.000secs_00002252.fit\n",
      "NGC 2323_V_10.000secs_00002253.fit\n",
      "NGC 2323_V_10.000secs_00002254.fit\n",
      "NGC 2323_V_120.000secs_00002270.fit\n",
      "NGC 2323_V_120.000secs_00002271.fit\n",
      "NGC 2323_V_120.000secs_00002272.fit\n",
      "NGC 2323_V_120.000secs_00002273.fit\n",
      "NGC 2323_V_120.000secs_00002274.fit\n",
      "NGC 2323_B_10.000secs_00002235.fit\n",
      "NGC 2323_B_10.000secs_00002236.fit\n",
      "NGC 2323_B_10.000secs_00002237.fit\n",
      "NGC 2323_B_10.000secs_00002238.fit\n",
      "NGC 2323_B_10.000secs_00002239.fit\n",
      "NGC 2323_B_10.000secs_00002240.fit\n",
      "NGC 2323_B_10.000secs_00002241.fit\n",
      "NGC 2323_B_10.000secs_00002242.fit\n",
      "NGC 2323_B_10.000secs_00002243.fit\n",
      "NGC 2323_B_10.000secs_00002244.fit\n",
      "NGC 2323_B_120.000secs_00002265.fit\n",
      "NGC 2323_B_120.000secs_00002266.fit\n",
      "NGC 2323_B_120.000secs_00002267.fit\n",
      "NGC 2323_B_120.000secs_00002268.fit\n",
      "NGC 2323_B_120.000secs_00002269.fit\n",
      "NGC 2323_R_10.000secs_00002255.fit\n",
      "NGC 2323_R_10.000secs_00002256.fit\n",
      "NGC 2323_R_10.000secs_00002257.fit\n",
      "NGC 2323_R_10.000secs_00002258.fit\n",
      "NGC 2323_R_10.000secs_00002259.fit\n",
      "NGC 2323_R_10.000secs_00002260.fit\n",
      "NGC 2323_R_10.000secs_00002261.fit\n",
      "NGC 2323_R_10.000secs_00002262.fit\n",
      "NGC 2323_R_10.000secs_00002263.fit\n",
      "NGC 2323_R_10.000secs_00002264.fit\n",
      "NGC 2323_R_60.000secs_00002284.fit\n",
      "NGC 2323_R_60.000secs_00002285.fit\n",
      "NGC 2323_R_60.000secs_00002286.fit\n",
      "NGC 2323_R_60.000secs_00002287.fit\n",
      "NGC 2323_R_60.000secs_00002289.fit\n",
      "NGC 2323_R_60.000secs_00002296.fit\n",
      "NGC 2323_R_60.000secs_00002297.fit\n",
      "NGC 2323_R_60.000secs_00002298.fit\n",
      "NGC 2323_R_60.000secs_00002299.fit\n",
      "NGC 2323_R_60.000secs_00002300.fit\n",
      "NGC 2323_R_60.000secs_00002301.fit\n"
     ]
    }
   ],
   "source": [
    "# Reading in the unprocessed scientific images\n",
    "\n",
    "imagesV = ccdproc.ImageFileCollection(\".\",glob_include='NGC 2323_V_*')\n",
    "for fnV in imagesV.files_filtered(PICTTYPE = 1): #printing image file names\n",
    "    print(fnV)\n",
    "imagesB = ccdproc.ImageFileCollection(\".\",glob_include='NGC 2323_B_*')\n",
    "for fnB in imagesB.files_filtered(PICTTYPE = 1): #printing image file names\n",
    "    print(fnB)\n",
    "imagesR = ccdproc.ImageFileCollection(\".\",glob_include='NGC 2323_R_*')\n",
    "for fnR in imagesR.files_filtered(PICTTYPE = 1): #printing image file names\n",
    "    print(fnR)"
   ]
  },
  {
   "cell_type": "markdown",
   "id": "cb715a25",
   "metadata": {},
   "source": []
  },
  {
   "cell_type": "code",
   "execution_count": 4,
   "id": "d6ecaa44",
   "metadata": {},
   "outputs": [
    {
     "name": "stderr",
     "output_type": "stream",
     "text": [
      "WARNING: FITSFixedWarning: 'obsfix' made the change 'Set OBSGEO-X to -4134713.329 from OBSGEO-[LBH].\n",
      "Set OBSGEO-Y to  2879792.379 from OBSGEO-[LBH].\n",
      "Set OBSGEO-Z to -3897419.410 from OBSGEO-[LBH]'. [astropy.wcs.wcs]\n",
      "WARNING:astropy:FITSFixedWarning: 'obsfix' made the change 'Set OBSGEO-X to -4134713.329 from OBSGEO-[LBH].\n",
      "Set OBSGEO-Y to  2879792.379 from OBSGEO-[LBH].\n",
      "Set OBSGEO-Z to -3897419.410 from OBSGEO-[LBH]'.\n"
     ]
    },
    {
     "name": "stdout",
     "output_type": "stream",
     "text": [
      "[[2385 2346 2428 ... 2335 2267 2317]\n",
      " [2331 2326 2348 ... 2261 2243 2266]\n",
      " [2350 2448 2347 ... 2360 2188 2292]\n",
      " ...\n",
      " [2394 2285 2379 ... 2328 2359 2327]\n",
      " [2328 2377 2333 ... 2360 2321 2232]\n",
      " [2378 2291 2335 ... 2251 2319 2287]]\n",
      "[[2342 2296 2323 ... 2321 2252 2303]\n",
      " [2321 2396 2376 ... 2370 2325 2257]\n",
      " [2485 2333 2400 ... 2321 2351 2228]\n",
      " ...\n",
      " [2361 2261 2221 ... 2285 2383 2290]\n",
      " [2318 2388 2318 ... 2353 2251 2285]\n",
      " [2359 2320 2340 ... 2284 2264 2351]]\n"
     ]
    }
   ],
   "source": [
    "V_im_0 = CCDData.read(\"NGC 2323_V_10.000secs_00002245.fit\", unit = \"adu\")\n",
    "V_im_1 = CCDData.read(\"NGC 2323_V_10.000secs_00002246.fit\", unit = \"adu\")\n",
    "\n",
    "print(V_im_0)\n",
    "print(V_im_1)"
   ]
  },
  {
   "cell_type": "markdown",
   "id": "edb264be",
   "metadata": {},
   "source": [
    "# Image Reduction\n",
    "<br>\n",
    "To reduce our images so that the background and noise has minimal effect on our analysis of NGC 2323, we follow the steps from section 4.5.3 of Rieke:<br>\n",
    "\n",
    "1. data' = data - bias'<br>\n",
    "2. dark'= dark - bias'<br>\n",
    "3. flat' = flats - bias'<br>\n",
    "4. data'' = data' - $\\alpha $dark'<br>\n",
    "5. flat'' = flat' - $\\beta $dark'<br>\n",
    "6. proc_image = data''/flat''<br>\n",
    "\n",
    "<br>\n",
    "We first load in all our images that we are going to use for our reductions"
   ]
  },
  {
   "cell_type": "code",
   "execution_count": 7,
   "id": "2fce1b26",
   "metadata": {},
   "outputs": [
    {
     "name": "stderr",
     "output_type": "stream",
     "text": [
      "INFO:astropy:using the unit adu passed to the FITS reader instead of the unit adu in the FITS file.\n",
      "INFO:astropy:using the unit adu passed to the FITS reader instead of the unit adu in the FITS file.\n",
      "INFO:astropy:using the unit adu passed to the FITS reader instead of the unit adu2 in the FITS file.\n",
      "INFO:astropy:using the unit adu passed to the FITS reader instead of the unit adu2 in the FITS file.\n",
      "INFO:astropy:using the unit adu passed to the FITS reader instead of the unit adu2 in the FITS file.\n"
     ]
    },
    {
     "name": "stdout",
     "output_type": "stream",
     "text": [
      "INFO: using the unit adu passed to the FITS reader instead of the unit adu in the FITS file. [astropy.nddata.ccddata]\n",
      "INFO: using the unit adu passed to the FITS reader instead of the unit adu in the FITS file. [astropy.nddata.ccddata]\n",
      "INFO: using the unit adu passed to the FITS reader instead of the unit adu2 in the FITS file. [astropy.nddata.ccddata]\n",
      "INFO: using the unit adu passed to the FITS reader instead of the unit adu2 in the FITS file. [astropy.nddata.ccddata]\n",
      "INFO: using the unit adu passed to the FITS reader instead of the unit adu2 in the FITS file. [astropy.nddata.ccddata]\n"
     ]
    }
   ],
   "source": [
    "# Reading in the darks. biases and flats\n",
    "\n",
    "bias_median = CCDData.read(\"bias_median.fits\", unit = \"adu\")\n",
    "dark_median = CCDData.read(\"dark_median.fits\", unit = \"adu\")\n",
    "flats_median_V = CCDData.read(\"Flat_V_median.fits\", unit = \"adu\")\n",
    "flats_median_B = CCDData.read(\"Flat_B_median.fits\", unit = \"adu\")\n",
    "flats_median_R = CCDData.read(\"Flat_R_median.fits\", unit = \"adu\")\n"
   ]
  },
  {
   "cell_type": "markdown",
   "id": "80962b1c",
   "metadata": {},
   "source": [
    "We then read the images data and load them into their respective lists using the read function."
   ]
  },
  {
   "cell_type": "code",
   "execution_count": 8,
   "id": "36acb853",
   "metadata": {
    "scrolled": false
   },
   "outputs": [
    {
     "name": "stderr",
     "output_type": "stream",
     "text": [
      "WARNING: FITSFixedWarning: 'obsfix' made the change 'Set OBSGEO-X to -4134713.329 from OBSGEO-[LBH].\n",
      "Set OBSGEO-Y to  2879792.379 from OBSGEO-[LBH].\n",
      "Set OBSGEO-Z to -3897419.410 from OBSGEO-[LBH]'. [astropy.wcs.wcs]\n",
      "WARNING:astropy:FITSFixedWarning: 'obsfix' made the change 'Set OBSGEO-X to -4134713.329 from OBSGEO-[LBH].\n",
      "Set OBSGEO-Y to  2879792.379 from OBSGEO-[LBH].\n",
      "Set OBSGEO-Z to -3897419.410 from OBSGEO-[LBH]'.\n",
      "WARNING: FITSFixedWarning: 'obsfix' made the change 'Set OBSGEO-X to -4134713.329 from OBSGEO-[LBH].\n",
      "Set OBSGEO-Y to  2879792.379 from OBSGEO-[LBH].\n",
      "Set OBSGEO-Z to -3897419.410 from OBSGEO-[LBH]'. [astropy.wcs.wcs]\n",
      "WARNING:astropy:FITSFixedWarning: 'obsfix' made the change 'Set OBSGEO-X to -4134713.329 from OBSGEO-[LBH].\n",
      "Set OBSGEO-Y to  2879792.379 from OBSGEO-[LBH].\n",
      "Set OBSGEO-Z to -3897419.410 from OBSGEO-[LBH]'.\n",
      "WARNING: FITSFixedWarning: 'obsfix' made the change 'Set OBSGEO-X to -4134713.329 from OBSGEO-[LBH].\n",
      "Set OBSGEO-Y to  2879792.379 from OBSGEO-[LBH].\n",
      "Set OBSGEO-Z to -3897419.410 from OBSGEO-[LBH]'. [astropy.wcs.wcs]\n",
      "WARNING:astropy:FITSFixedWarning: 'obsfix' made the change 'Set OBSGEO-X to -4134713.329 from OBSGEO-[LBH].\n",
      "Set OBSGEO-Y to  2879792.379 from OBSGEO-[LBH].\n",
      "Set OBSGEO-Z to -3897419.410 from OBSGEO-[LBH]'.\n"
     ]
    }
   ],
   "source": [
    "# Reading in science images\n",
    "\n",
    "imV = [CCDData.read(fnV, unit = \"adu\") for fnV in imagesV.files_filtered(PICTTYPE = 1)]\n",
    "imB = [CCDData.read(fnB, unit = \"adu\") for fnB in imagesB.files_filtered(PICTTYPE = 1)]\n",
    "imR = [CCDData.read(fnR, unit = \"adu\") for fnR in imagesR.files_filtered(PICTTYPE = 1)]"
   ]
  },
  {
   "cell_type": "markdown",
   "id": "6648fd69",
   "metadata": {},
   "source": [
    "To check the images have been read properly we print the first two images."
   ]
  },
  {
   "cell_type": "code",
   "execution_count": 9,
   "id": "12273e39",
   "metadata": {
    "scrolled": true
   },
   "outputs": [
    {
     "name": "stdout",
     "output_type": "stream",
     "text": [
      "[[2385 2346 2428 ... 2335 2267 2317]\n",
      " [2331 2326 2348 ... 2261 2243 2266]\n",
      " [2350 2448 2347 ... 2360 2188 2292]\n",
      " ...\n",
      " [2394 2285 2379 ... 2328 2359 2327]\n",
      " [2328 2377 2333 ... 2360 2321 2232]\n",
      " [2378 2291 2335 ... 2251 2319 2287]]\n",
      "\n",
      "\n",
      "[[2342 2296 2323 ... 2321 2252 2303]\n",
      " [2321 2396 2376 ... 2370 2325 2257]\n",
      " [2485 2333 2400 ... 2321 2351 2228]\n",
      " ...\n",
      " [2361 2261 2221 ... 2285 2383 2290]\n",
      " [2318 2388 2318 ... 2353 2251 2285]\n",
      " [2359 2320 2340 ... 2284 2264 2351]]\n"
     ]
    }
   ],
   "source": [
    "print(imV[0])\n",
    "print('\\n')\n",
    "print(imV[1])"
   ]
  },
  {
   "cell_type": "markdown",
   "id": "37ecde5d",
   "metadata": {},
   "source": [
    "A function was then created to reduce each band respectively. The input of the funtion requires the collection variable, the image data and the flats each of the respective images band which we are reducing.<br>\n",
    "\n",
    "The fuction takes the iterates through the each images data and subtracts the bias_median from each image. Then the darks are subtraced from the images, within this step, the dark image is scaled so the exposure time is equivilent to the exposure time of the respective image. Finally, the image is flat corrected using the median_flat file for the respective band.<br>\n",
    "\n",
    "The reduced image is then saved as a fit file with the word 'proc' at the start to indicate the image has been processed and reduced"
   ]
  },
  {
   "cell_type": "code",
   "execution_count": 10,
   "id": "95fb3871",
   "metadata": {},
   "outputs": [],
   "source": [
    "def reduction(collection: ccdproc.ImageFileCollection, image: list, flat: list) -> None:\n",
    "    \n",
    "    #Median subtraction\n",
    "    for idx, thisimage in enumerate(image):\n",
    "        image[idx] = ccdproc.subtract_bias(thisimage, bias_median)\n",
    "    \n",
    "    for idx, thisimage in enumerate(image):\n",
    "        image[idx] = ccdproc.subtract_dark(thisimage, dark_median, exposure_time = 'EXPTIME', exposure_unit = u.second, scale = True)\n",
    "        \n",
    "    for idx, thisimage in enumerate(image):\n",
    "        image[idx] = ccdproc.flat_correct(thisimage, flat)\n",
    "\n",
    "    newname = []\n",
    "\n",
    "    for fn in collection.files_filtered(PICTTYPE = 1):\n",
    "        newname.extend([\"proc_\" + fn])\n",
    "    print(newname)\n",
    "\n",
    "    for idx, thisimage in enumerate(image):\n",
    "        tempimages = [thisimage]\n",
    "        temp = ccdproc.Combiner(tempimages,dtype=np.float32).median_combine()\n",
    "        temp.meta = thisimage.meta\n",
    "        temp.write(newname[idx])\n"
   ]
  },
  {
   "cell_type": "markdown",
   "id": "e9c724db",
   "metadata": {},
   "source": [
    "Carrying out the reduction for the V, B and R bands. This section take a little bit to run."
   ]
  },
  {
   "cell_type": "code",
   "execution_count": 11,
   "id": "020c5db8",
   "metadata": {
    "scrolled": false
   },
   "outputs": [
    {
     "name": "stdout",
     "output_type": "stream",
     "text": [
      "['proc_NGC 2323_V_10.000secs_00002245.fit', 'proc_NGC 2323_V_10.000secs_00002246.fit', 'proc_NGC 2323_V_10.000secs_00002247.fit', 'proc_NGC 2323_V_10.000secs_00002248.fit', 'proc_NGC 2323_V_10.000secs_00002249.fit', 'proc_NGC 2323_V_10.000secs_00002250.fit', 'proc_NGC 2323_V_10.000secs_00002251.fit', 'proc_NGC 2323_V_10.000secs_00002252.fit', 'proc_NGC 2323_V_10.000secs_00002253.fit', 'proc_NGC 2323_V_10.000secs_00002254.fit', 'proc_NGC 2323_V_120.000secs_00002270.fit', 'proc_NGC 2323_V_120.000secs_00002271.fit', 'proc_NGC 2323_V_120.000secs_00002272.fit', 'proc_NGC 2323_V_120.000secs_00002273.fit', 'proc_NGC 2323_V_120.000secs_00002274.fit']\n"
     ]
    }
   ],
   "source": [
    "reduction(imagesV, imV, flats_median_V)\n",
    "reduction(imagesB, imB, flats_median_B)\n",
    "reduction(imagesR, imR, flats_median_R)"
   ]
  },
  {
   "cell_type": "markdown",
   "id": "86b2d469",
   "metadata": {},
   "source": [
    "To check the reduction was completed correctly, we read two different images into variables and then print them to make sure there are no outstanding issues"
   ]
  },
  {
   "cell_type": "code",
   "execution_count": 14,
   "id": "e5c0ccd0",
   "metadata": {
    "scrolled": false
   },
   "outputs": [
    {
     "name": "stderr",
     "output_type": "stream",
     "text": [
      "INFO:astropy:using the unit adu passed to the FITS reader instead of the unit adu in the FITS file.\n",
      "WARNING: FITSFixedWarning: 'obsfix' made the change 'Set OBSGEO-X to -4134713.329 from OBSGEO-[LBH].\n",
      "Set OBSGEO-Y to  2879792.379 from OBSGEO-[LBH].\n",
      "Set OBSGEO-Z to -3897419.410 from OBSGEO-[LBH]'. [astropy.wcs.wcs]\n",
      "WARNING:astropy:FITSFixedWarning: 'obsfix' made the change 'Set OBSGEO-X to -4134713.329 from OBSGEO-[LBH].\n",
      "Set OBSGEO-Y to  2879792.379 from OBSGEO-[LBH].\n",
      "Set OBSGEO-Z to -3897419.410 from OBSGEO-[LBH]'.\n",
      "INFO:astropy:using the unit adu passed to the FITS reader instead of the unit adu in the FITS file.\n"
     ]
    },
    {
     "name": "stdout",
     "output_type": "stream",
     "text": [
      "INFO: using the unit adu passed to the FITS reader instead of the unit adu in the FITS file. [astropy.nddata.ccddata]\n",
      "INFO: using the unit adu passed to the FITS reader instead of the unit adu in the FITS file. [astropy.nddata.ccddata]\n",
      "proc_NGC 2323_V_10.000secs_00002245.fit\n",
      "[[235.59409 196.1842  296.4103  ... 251.64024 173.20647 227.73346]\n",
      " [172.72185 181.05339 212.79431 ... 169.74855 161.13628 197.65532]\n",
      " [189.33896 308.5732  205.83232 ... 280.56808  97.06361 199.22028]\n",
      " ...\n",
      " [312.0172  165.47163 319.36325 ... 224.86752 261.40912 234.56325]\n",
      " [244.14525 317.2171  272.14932 ... 262.836   229.82867 118.58276]\n",
      " [312.8529  209.13023 283.4374  ... 154.49707 220.79951 188.45284]]\n",
      "\n",
      "**proc_NGC 2323_V_10.000secs_00002246.fit**\n",
      "[[192.10654  145.48515  189.44179  ... 236.83044  156.43434  211.56326 ]\n",
      " [162.70503  251.87837  241.27936  ... 284.44885  253.37753  187.17513 ]\n",
      " [325.18604  193.85529  260.0103   ... 238.62448  282.15393  126.17184 ]\n",
      " ...\n",
      " [264.0785   131.38672   94.562256 ... 178.42174  288.24417  191.51878 ]\n",
      " [228.849    334.0313   249.44392  ... 254.9391   148.50308  180.66508 ]\n",
      " [283.03268  256.39386  291.234    ... 193.35313  157.00371  262.03528 ]]\n"
     ]
    }
   ],
   "source": [
    "V_im_0 = CCDData.read(\"proc_NGC 2323_V_10.000secs_00002245.fit\", unit = \"adu\")\n",
    "V_im_1 = CCDData.read(\"proc_NGC 2323_V_10.000secs_00002246.fit\", unit = \"adu\")\n",
    "print(\"proc_NGC 2323_V_10.000secs_00002245.fit\")\n",
    "print(V_im_0)\n",
    "print(\"\\n**proc_NGC 2323_V_10.000secs_00002246.fit**\")\n",
    "print(V_im_1)"
   ]
  },
  {
   "cell_type": "code",
   "execution_count": null,
   "id": "c69dc51a",
   "metadata": {},
   "outputs": [],
   "source": []
  }
 ],
 "metadata": {
  "kernelspec": {
   "display_name": "Python 3 (ipykernel)",
   "language": "python",
   "name": "python3"
  },
  "language_info": {
   "codemirror_mode": {
    "name": "ipython",
    "version": 3
   },
   "file_extension": ".py",
   "mimetype": "text/x-python",
   "name": "python",
   "nbconvert_exporter": "python",
   "pygments_lexer": "ipython3",
   "version": "3.9.6"
  }
 },
 "nbformat": 4,
 "nbformat_minor": 5
}
