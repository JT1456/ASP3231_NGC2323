{
 "cells": [
  {
   "cell_type": "code",
   "execution_count": 1,
   "id": "41d81d72",
   "metadata": {},
   "outputs": [
    {
     "name": "stderr",
     "output_type": "stream",
     "text": [
      "C:\\Users\\Msi Raider\\AppData\\Local\\Temp\\ipykernel_14412\\1974830583.py:9: DeprecationWarning: `photutils.centroid_com` is a deprecated alias for `photutils.centroids.centroid_com`. Instead, please use `from photutils.centroids import centroid_com` to silence this warning.\n",
      "  from photutils import centroid_com, centroid_1dg, centroid_2dg\n",
      "C:\\Users\\Msi Raider\\AppData\\Local\\Temp\\ipykernel_14412\\1974830583.py:9: DeprecationWarning: `photutils.centroid_1dg` is a deprecated alias for `photutils.centroids.centroid_1dg`. Instead, please use `from photutils.centroids import centroid_1dg` to silence this warning.\n",
      "  from photutils import centroid_com, centroid_1dg, centroid_2dg\n",
      "C:\\Users\\Msi Raider\\AppData\\Local\\Temp\\ipykernel_14412\\1974830583.py:9: DeprecationWarning: `photutils.centroid_2dg` is a deprecated alias for `photutils.centroids.centroid_2dg`. Instead, please use `from photutils.centroids import centroid_2dg` to silence this warning.\n",
      "  from photutils import centroid_com, centroid_1dg, centroid_2dg\n"
     ]
    }
   ],
   "source": [
    "import numpy as np\n",
    "import astropy\n",
    "import ccdproc\n",
    "from ccdproc import CCDData, Combiner\n",
    "from astropy import units as u\n",
    "from astropy.visualization import SqrtStretch\n",
    "import matplotlib.pyplot as plt \n",
    "from matplotlib.colors import LogNorm\n",
    "from photutils import centroid_com, centroid_1dg, centroid_2dg\n",
    "from photutils import CircularAperture\n",
    "from photutils import aperture_photometry\n",
    "from photutils import Background2D\n",
    "from photutils import MedianBackground\n",
    "from scipy.ndimage import shift\n",
    "import gc                                                           \n",
    "gc.enable()"
   ]
  },
  {
   "cell_type": "code",
   "execution_count": 2,
   "id": "72d1f612",
   "metadata": {},
   "outputs": [],
   "source": [
    "# The same code needed to be excecuted to create flats for the 5 filters that we had observations in.\n",
    "# TO do this more efficiently we decided to create a function that could be called \n",
    "# When called it returns the combined flat image that has had the bias and dark subtracted from it\n",
    "# Along with the statistics before and after the combining to show that the image has become a lot more uniform\n",
    "\n",
    "def median_flat_creator(band):\n",
    "    string_for_loading = 'Flat_' + band + '_*'\n",
    "    string_for_saving = \"Flat_\" + band + \"_median.fits\"\n",
    "    \n",
    "    images = ccdproc.ImageFileCollection(\".\",glob_include = string_for_loading)#loading in image file collection\n",
    "    for fn in images.files_filtered(PICTTYPE = 4): #Printing file names\n",
    "        #print(fn)\n",
    "        pass\n",
    "    flats = [ CCDData.read(fn, unit = \"adu\") for fn in images.files_filtered(PICTTYPE = 4) ] #Loading in Flats data\n",
    "\n",
    "    print('Min of flats_' + band + \"_[0]:\", np.min(flats[0]))\n",
    "    print('Max of flats_' + band + \"_[0]:\", np.max(flats[0]))\n",
    "    print('Median of flats_' + band + \"_[0]:\", np.median(flats[0]))\n",
    "    print('Std Dev of flats_' + band + \"_[0]:\", np.std(flats[0]))\n",
    "\n",
    "    for idx, thisimage in enumerate(flats): \n",
    "        flats[idx] = ccdproc.subtract_bias(thisimage, bias_median) #Subtracting Bias from flats\n",
    "\n",
    "    for idx, thisimage in enumerate(flats): \n",
    "        flats[idx] = ccdproc.subtract_dark(thisimage, dark_median, exposure_time = 'EXPTIME', #Subtracting darks from flats\n",
    "                                           exposure_unit = u.second, scale = True)\n",
    "\n",
    "    tempimages = flats.copy() #copying the flat images into a temporary variable\n",
    "    for idx, thisimage in enumerate(tempimages):\n",
    "        m = 1.0 / np.ma.median(tempimages[idx]) #finding the scaling for each image based of it's median counts\n",
    "        tempimages[idx] = tempimages[idx].multiply(m * u.adu) #scaling each image by the scaling factor that was found before\n",
    "    Flat_median = ccdproc.Combiner(tempimages, dtype=np.float32).median_combine() #combining the scaled images into 1 median image\n",
    "    print(\"\")\n",
    "    print('Min of flats_' + band + '_median combine image:' , np.min(Flat_median))\n",
    "    print('Max of flats_' + band + '_median combine image:', np.max(Flat_median))\n",
    "    print('Median of flats_' + band + '_median combine image:', np.median(Flat_median))\n",
    "    print('Std Dev of flats_' + band + '_median combine image:', np.std(Flat_median))\n",
    "\n",
    "    Flat_median.write(string_for_saving)"
   ]
  },
  {
   "cell_type": "code",
   "execution_count": 4,
   "id": "8d5fed5d",
   "metadata": {},
   "outputs": [
    {
     "name": "stdout",
     "output_type": "stream",
     "text": [
      "INFO: using the unit adu passed to the FITS reader instead of the unit adu in the FITS file. [astropy.nddata.ccddata]\n",
      "INFO: using the unit adu passed to the FITS reader instead of the unit adu in the FITS file. [astropy.nddata.ccddata]\n"
     ]
    }
   ],
   "source": [
    "# Reading in the previously created bias and dark frames\n",
    "\n",
    "bias_median = CCDData.read(\"bias_median.fits\", unit = \"adu\")\n",
    "dark_median = CCDData.read(\"dark_median.fits\", unit = \"adu\")"
   ]
  },
  {
   "cell_type": "code",
   "execution_count": 5,
   "id": "2f4c433a",
   "metadata": {},
   "outputs": [
    {
     "name": "stderr",
     "output_type": "stream",
     "text": [
      "WARNING: FITSFixedWarning: 'obsfix' made the change 'Set OBSGEO-X to -4134713.329 from OBSGEO-[LBH].\n",
      "Set OBSGEO-Y to  2879792.379 from OBSGEO-[LBH].\n",
      "Set OBSGEO-Z to -3897419.410 from OBSGEO-[LBH]'. [astropy.wcs.wcs]\n",
      "WARNING:astropy:FITSFixedWarning: 'obsfix' made the change 'Set OBSGEO-X to -4134713.329 from OBSGEO-[LBH].\n",
      "Set OBSGEO-Y to  2879792.379 from OBSGEO-[LBH].\n",
      "Set OBSGEO-Z to -3897419.410 from OBSGEO-[LBH]'.\n"
     ]
    },
    {
     "name": "stdout",
     "output_type": "stream",
     "text": [
      "Min of flats_B_[0]: 13366\n",
      "Max of flats_B_[0]: 24187\n",
      "Median of flats_B_[0]: 18734.0\n",
      "Std Dev of flats_B_[0]: 443.69840937499634\n",
      "\n",
      "Min of flats_B_median combine image: 0.68633604\n",
      "Max of flats_B_median combine image: 1.3592789\n",
      "Median of flats_B_median combine image: 1.0000075101852417\n",
      "Std Dev of flats_B_median combine image: 0.023409750312566757\n"
     ]
    },
    {
     "name": "stderr",
     "output_type": "stream",
     "text": [
      "C:\\Users\\Msi Raider\\anaconda3\\envs\\obsastro2022\\lib\\site-packages\\numpy\\core\\fromnumeric.py:755: UserWarning: Warning: 'partition' will ignore the 'mask' of the MaskedArray.\n",
      "  a.partition(kth, axis=axis, kind=kind, order=order)\n",
      "WARNING: FITSFixedWarning: 'obsfix' made the change 'Set OBSGEO-X to -4134713.329 from OBSGEO-[LBH].\n",
      "Set OBSGEO-Y to  2879792.379 from OBSGEO-[LBH].\n",
      "Set OBSGEO-Z to -3897419.410 from OBSGEO-[LBH]'. [astropy.wcs.wcs]\n",
      "WARNING:astropy:FITSFixedWarning: 'obsfix' made the change 'Set OBSGEO-X to -4134713.329 from OBSGEO-[LBH].\n",
      "Set OBSGEO-Y to  2879792.379 from OBSGEO-[LBH].\n",
      "Set OBSGEO-Z to -3897419.410 from OBSGEO-[LBH]'.\n"
     ]
    },
    {
     "name": "stdout",
     "output_type": "stream",
     "text": [
      "Min of flats_V_[0]: 6014\n",
      "Max of flats_V_[0]: 12801\n",
      "Median of flats_V_[0]: 8350.0\n",
      "Std Dev of flats_V_[0]: 189.37751597457034\n",
      "\n",
      "Min of flats_V_median combine image: 0.6129931\n",
      "Max of flats_V_median combine image: 1.7178612\n",
      "Median of flats_V_median combine image: 1.000342845916748\n",
      "Std Dev of flats_V_median combine image: 0.02411131002008915\n"
     ]
    },
    {
     "name": "stderr",
     "output_type": "stream",
     "text": [
      "C:\\Users\\Msi Raider\\anaconda3\\envs\\obsastro2022\\lib\\site-packages\\numpy\\core\\fromnumeric.py:755: UserWarning: Warning: 'partition' will ignore the 'mask' of the MaskedArray.\n",
      "  a.partition(kth, axis=axis, kind=kind, order=order)\n",
      "WARNING: FITSFixedWarning: 'obsfix' made the change 'Set OBSGEO-X to -4134713.329 from OBSGEO-[LBH].\n",
      "Set OBSGEO-Y to  2879792.379 from OBSGEO-[LBH].\n",
      "Set OBSGEO-Z to -3897419.410 from OBSGEO-[LBH]'. [astropy.wcs.wcs]\n",
      "WARNING:astropy:FITSFixedWarning: 'obsfix' made the change 'Set OBSGEO-X to -4134713.329 from OBSGEO-[LBH].\n",
      "Set OBSGEO-Y to  2879792.379 from OBSGEO-[LBH].\n",
      "Set OBSGEO-Z to -3897419.410 from OBSGEO-[LBH]'.\n"
     ]
    },
    {
     "name": "stdout",
     "output_type": "stream",
     "text": [
      "Min of flats_R_[0]: 4517\n",
      "Max of flats_R_[0]: 13254\n",
      "Median of flats_R_[0]: 6118.0\n",
      "Std Dev of flats_R_[0]: 144.98724210174444\n",
      "\n",
      "Min of flats_R_median combine image: 0.6302809\n",
      "Max of flats_R_median combine image: 2.0864048\n",
      "Median of flats_R_median combine image: 1.0006940364837646\n",
      "Std Dev of flats_R_median combine image: 0.025127574801445007\n"
     ]
    },
    {
     "name": "stderr",
     "output_type": "stream",
     "text": [
      "C:\\Users\\Msi Raider\\anaconda3\\envs\\obsastro2022\\lib\\site-packages\\numpy\\core\\fromnumeric.py:755: UserWarning: Warning: 'partition' will ignore the 'mask' of the MaskedArray.\n",
      "  a.partition(kth, axis=axis, kind=kind, order=order)\n",
      "WARNING: FITSFixedWarning: 'obsfix' made the change 'Set OBSGEO-X to -4134713.329 from OBSGEO-[LBH].\n",
      "Set OBSGEO-Y to  2879792.379 from OBSGEO-[LBH].\n",
      "Set OBSGEO-Z to -3897419.410 from OBSGEO-[LBH]'. [astropy.wcs.wcs]\n",
      "WARNING:astropy:FITSFixedWarning: 'obsfix' made the change 'Set OBSGEO-X to -4134713.329 from OBSGEO-[LBH].\n",
      "Set OBSGEO-Y to  2879792.379 from OBSGEO-[LBH].\n",
      "Set OBSGEO-Z to -3897419.410 from OBSGEO-[LBH]'.\n"
     ]
    },
    {
     "name": "stdout",
     "output_type": "stream",
     "text": [
      "Min of flats_I_[0]: 4415\n",
      "Max of flats_I_[0]: 9386\n",
      "Median of flats_I_[0]: 4958.0\n",
      "Std Dev of flats_I_[0]: 111.92012230376744\n",
      "\n",
      "Min of flats_I_median combine image: 0.87500304\n",
      "Max of flats_I_median combine image: 2.5058527\n",
      "Median of flats_I_median combine image: 1.00032639503479\n",
      "Std Dev of flats_I_median combine image: 0.022283578291535378\n"
     ]
    },
    {
     "name": "stderr",
     "output_type": "stream",
     "text": [
      "C:\\Users\\Msi Raider\\anaconda3\\envs\\obsastro2022\\lib\\site-packages\\numpy\\core\\fromnumeric.py:755: UserWarning: Warning: 'partition' will ignore the 'mask' of the MaskedArray.\n",
      "  a.partition(kth, axis=axis, kind=kind, order=order)\n",
      "WARNING: FITSFixedWarning: 'obsfix' made the change 'Set OBSGEO-X to -4134713.329 from OBSGEO-[LBH].\n",
      "Set OBSGEO-Y to  2879792.379 from OBSGEO-[LBH].\n",
      "Set OBSGEO-Z to -3897419.410 from OBSGEO-[LBH]'. [astropy.wcs.wcs]\n",
      "WARNING:astropy:FITSFixedWarning: 'obsfix' made the change 'Set OBSGEO-X to -4134713.329 from OBSGEO-[LBH].\n",
      "Set OBSGEO-Y to  2879792.379 from OBSGEO-[LBH].\n",
      "Set OBSGEO-Z to -3897419.410 from OBSGEO-[LBH]'.\n"
     ]
    },
    {
     "name": "stdout",
     "output_type": "stream",
     "text": [
      "Min of flats_U_[0]: 17852\n",
      "Max of flats_U_[0]: 28207\n",
      "Median of flats_U_[0]: 22718.0\n",
      "Std Dev of flats_U_[0]: 635.4923663444304\n",
      "\n",
      "Min of flats_U_median combine image: 0.76239395\n",
      "Max of flats_U_median combine image: 1.4133986\n",
      "Median of flats_U_median combine image: 1.0012414455413818\n",
      "Std Dev of flats_U_median combine image: 0.029202427715063095\n"
     ]
    },
    {
     "name": "stderr",
     "output_type": "stream",
     "text": [
      "C:\\Users\\Msi Raider\\anaconda3\\envs\\obsastro2022\\lib\\site-packages\\numpy\\core\\fromnumeric.py:755: UserWarning: Warning: 'partition' will ignore the 'mask' of the MaskedArray.\n",
      "  a.partition(kth, axis=axis, kind=kind, order=order)\n"
     ]
    }
   ],
   "source": [
    "# Calling the function for the 5 differenct bands\n",
    "bands = [\"B\", \"V\", \"R\", \"I\", \"U\"]\n",
    "\n",
    "for i in range(0,5):\n",
    "    median_flat_creator(bands[i])"
   ]
  },
  {
   "cell_type": "code",
   "execution_count": null,
   "id": "a36ce16c",
   "metadata": {},
   "outputs": [],
   "source": []
  }
 ],
 "metadata": {
  "kernelspec": {
   "display_name": "Python 3 (ipykernel)",
   "language": "python",
   "name": "python3"
  },
  "language_info": {
   "codemirror_mode": {
    "name": "ipython",
    "version": 3
   },
   "file_extension": ".py",
   "mimetype": "text/x-python",
   "name": "python",
   "nbconvert_exporter": "python",
   "pygments_lexer": "ipython3",
   "version": "3.9.6"
  }
 },
 "nbformat": 4,
 "nbformat_minor": 5
}
